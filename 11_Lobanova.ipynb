{
 "cells": [
  {
   "cell_type": "code",
   "execution_count": 54,
   "metadata": {},
   "outputs": [
    {
     "name": "stdout",
     "output_type": "stream",
     "text": [
      "Requirement already satisfied: pmdarima in c:\\users\\anoma\\anaconda3\\lib\\site-packages (1.8.4)\n",
      "Requirement already satisfied: pandas>=0.19 in c:\\users\\anoma\\anaconda3\\lib\\site-packages (from pmdarima) (1.2.4)\n",
      "Requirement already satisfied: setuptools!=50.0.0,>=38.6.0 in c:\\users\\anoma\\anaconda3\\lib\\site-packages (from pmdarima) (52.0.0.post20210125)\n",
      "Requirement already satisfied: scikit-learn>=0.22 in c:\\users\\anoma\\anaconda3\\lib\\site-packages (from pmdarima) (0.24.1)\n",
      "Requirement already satisfied: scipy>=1.3.2 in c:\\users\\anoma\\anaconda3\\lib\\site-packages (from pmdarima) (1.6.2)\n",
      "Requirement already satisfied: numpy>=1.19.3 in c:\\users\\anoma\\anaconda3\\lib\\site-packages (from pmdarima) (1.20.1)\n",
      "Requirement already satisfied: Cython!=0.29.18,>=0.29 in c:\\users\\anoma\\anaconda3\\lib\\site-packages (from pmdarima) (0.29.23)\n",
      "Requirement already satisfied: statsmodels!=0.12.0,>=0.11 in c:\\users\\anoma\\anaconda3\\lib\\site-packages (from pmdarima) (0.12.2)\n",
      "Requirement already satisfied: joblib>=0.11 in c:\\users\\anoma\\anaconda3\\lib\\site-packages (from pmdarima) (1.0.1)\n",
      "Requirement already satisfied: urllib3 in c:\\users\\anoma\\anaconda3\\lib\\site-packages (from pmdarima) (1.26.4)\n",
      "Requirement already satisfied: pytz>=2017.3 in c:\\users\\anoma\\anaconda3\\lib\\site-packages (from pandas>=0.19->pmdarima) (2021.1)\n",
      "Requirement already satisfied: python-dateutil>=2.7.3 in c:\\users\\anoma\\anaconda3\\lib\\site-packages (from pandas>=0.19->pmdarima) (2.8.1)\n",
      "Requirement already satisfied: six>=1.5 in c:\\users\\anoma\\anaconda3\\lib\\site-packages (from python-dateutil>=2.7.3->pandas>=0.19->pmdarima) (1.15.0)\n",
      "Requirement already satisfied: threadpoolctl>=2.0.0 in c:\\users\\anoma\\anaconda3\\lib\\site-packages (from scikit-learn>=0.22->pmdarima) (2.1.0)\n",
      "Requirement already satisfied: patsy>=0.5 in c:\\users\\anoma\\anaconda3\\lib\\site-packages (from statsmodels!=0.12.0,>=0.11->pmdarima) (0.5.1)\n"
     ]
    }
   ],
   "source": [
    "!pip install pmdarima\n"
   ]
  },
  {
   "cell_type": "code",
   "execution_count": 56,
   "metadata": {},
   "outputs": [
    {
     "data": {
      "text/html": [
       "<div>\n",
       "<style scoped>\n",
       "    .dataframe tbody tr th:only-of-type {\n",
       "        vertical-align: middle;\n",
       "    }\n",
       "\n",
       "    .dataframe tbody tr th {\n",
       "        vertical-align: top;\n",
       "    }\n",
       "\n",
       "    .dataframe thead th {\n",
       "        text-align: right;\n",
       "    }\n",
       "</style>\n",
       "<table border=\"1\" class=\"dataframe\">\n",
       "  <thead>\n",
       "    <tr style=\"text-align: right;\">\n",
       "      <th></th>\n",
       "      <th>Employees</th>\n",
       "    </tr>\n",
       "    <tr>\n",
       "      <th>Date</th>\n",
       "      <th></th>\n",
       "    </tr>\n",
       "  </thead>\n",
       "  <tbody>\n",
       "    <tr>\n",
       "      <th>1990-01-01</th>\n",
       "      <td>1064.5</td>\n",
       "    </tr>\n",
       "    <tr>\n",
       "      <th>1990-02-01</th>\n",
       "      <td>1074.5</td>\n",
       "    </tr>\n",
       "    <tr>\n",
       "      <th>1990-03-01</th>\n",
       "      <td>1090.0</td>\n",
       "    </tr>\n",
       "    <tr>\n",
       "      <th>1990-04-01</th>\n",
       "      <td>1097.4</td>\n",
       "    </tr>\n",
       "    <tr>\n",
       "      <th>1990-05-01</th>\n",
       "      <td>1108.7</td>\n",
       "    </tr>\n",
       "  </tbody>\n",
       "</table>\n",
       "</div>"
      ],
      "text/plain": [
       "            Employees\n",
       "Date                 \n",
       "1990-01-01     1064.5\n",
       "1990-02-01     1074.5\n",
       "1990-03-01     1090.0\n",
       "1990-04-01     1097.4\n",
       "1990-05-01     1108.7"
      ]
     },
     "execution_count": 56,
     "metadata": {},
     "output_type": "execute_result"
    }
   ],
   "source": [
    "import pandas as pd\n",
    "import numpy as np\n",
    "%matplotlib inline\n",
    "\n",
    "# импорт SARIMAX \n",
    "from statsmodels.tsa.statespace.sarimax import SARIMAX\n",
    "\n",
    "from statsmodels.graphics.tsaplots import plot_acf,plot_pacf # для определения (p,q) \n",
    "from statsmodels.tsa.seasonal import seasonal_decompose      # для ETS графиков\n",
    "from pmdarima import auto_arima                              # для поиска ARIMA моделей\n",
    "\n",
    "# метрики\n",
    "from sklearn.metrics import mean_squared_error\n",
    "from statsmodels.tools.eval_measures import rmse\n",
    "\n",
    "# для игнорирования предупреждений (опционально)\n",
    "# import warnings\n",
    "# warnings.filterwarnings(\"ignore\")\n",
    "\n",
    "# Загрузка датасета\n",
    "df = pd.read_csv('HospitalityEmployees.csv',index_col='Date',parse_dates=True)\n",
    "\n",
    "df.head()"
   ]
  },
  {
   "cell_type": "code",
   "execution_count": 57,
   "metadata": {},
   "outputs": [],
   "source": [
    "#В df 348 записей и 1 колонка. Данные представляют собой \n",
    "#численность сотрудников в тысячах человек в среднем за месяц\n",
    "#с января 1990 года по декабрь 2018 года."
   ]
  },
  {
   "cell_type": "code",
   "execution_count": 58,
   "metadata": {},
   "outputs": [
    {
     "name": "stdout",
     "output_type": "stream",
     "text": [
      "348\n"
     ]
    }
   ],
   "source": [
    "print(len(df))"
   ]
  },
  {
   "cell_type": "code",
   "execution_count": 59,
   "metadata": {},
   "outputs": [
    {
     "name": "stdout",
     "output_type": "stream",
     "text": [
      "            Employees\n",
      "Date                 \n",
      "1990-01-01     1064.5\n",
      "1990-02-01     1074.5\n",
      "1990-03-01     1090.0\n",
      "1990-04-01     1097.4\n",
      "1990-05-01     1108.7\n"
     ]
    }
   ],
   "source": [
    "print(df.head())"
   ]
  },
  {
   "cell_type": "markdown",
   "metadata": {},
   "source": [
    "### 1. Постройте график временного ряда\n"
   ]
  },
  {
   "cell_type": "code",
   "execution_count": 60,
   "metadata": {},
   "outputs": [
    {
     "data": {
      "text/plain": [
       "[Text(0.5, 0, ''), Text(0, 0.5, 'Thousands of Persons')]"
      ]
     },
     "execution_count": 60,
     "metadata": {},
     "output_type": "execute_result"
    },
    {
     "data": {
      "image/png": "[encoded data removed]",
      "text/plain": [
       "<Figure size 864x432 with 1 Axes>"
      ]
     },
     "metadata": {
      "needs_background": "light"
     },
     "output_type": "display_data"
    }
   ],
   "source": [
    "title = 'California Hospitality Industry Employees' \n",
    "ylabel = 'Thousands of Persons' \n",
    "xlabel = '' \n",
    "ax = df['Employees'].plot(figsize=(12,6),title=title) \n",
    "ax.autoscale(axis='x',tight=True)\n",
    "ax.set(xlabel=xlabel, ylabel=ylabel)\n"
   ]
  },
  {
   "cell_type": "markdown",
   "metadata": {},
   "source": [
    "### 2. Выполните ETS декомпозицию\n",
    "Используя аддитивную модель ('additive')."
   ]
  },
  {
   "cell_type": "code",
   "execution_count": 61,
   "metadata": {},
   "outputs": [],
   "source": [
    "r = seasonal_decompose(df['Employees'],model='additive')"
   ]
  },
  {
   "cell_type": "code",
   "execution_count": 62,
   "metadata": {},
   "outputs": [
    {
     "data": {
      "image/png": "[encoded data removed]",
      "text/plain": [
       "<Figure size 432x288 with 4 Axes>"
      ]
     },
     "metadata": {
      "needs_background": "light"
     },
     "output_type": "display_data"
    }
   ],
   "source": [
    "r.plot();"
   ]
  },
  {
   "cell_type": "markdown",
   "metadata": {},
   "source": [
    "### 3. Запустите <tt>pmdarima.auto_arima</tt> чтобы получить набор параметров\n",
    "Это может занять некоторое время, так как необходимо оценить множество комбинаций."
   ]
  },
  {
   "cell_type": "code",
   "execution_count": 63,
   "metadata": {},
   "outputs": [
    {
     "data": {
      "text/html": [
       "<table class=\"simpletable\">\n",
       "<caption>SARIMAX Results</caption>\n",
       "<tr>\n",
       "  <th>Dep. Variable:</th>                   <td>y</td>                <th>  No. Observations:  </th>    <td>348</td>   \n",
       "</tr>\n",
       "<tr>\n",
       "  <th>Model:</th>           <td>SARIMAX(1, 1, 2)x(1, 0, [1], 12)</td> <th>  Log Likelihood     </th> <td>-1098.252</td>\n",
       "</tr>\n",
       "<tr>\n",
       "  <th>Date:</th>                    <td>Sun, 19 Dec 2021</td>         <th>  AIC                </th> <td>2208.504</td> \n",
       "</tr>\n",
       "<tr>\n",
       "  <th>Time:</th>                        <td>18:36:04</td>             <th>  BIC                </th> <td>2231.600</td> \n",
       "</tr>\n",
       "<tr>\n",
       "  <th>Sample:</th>                          <td>0</td>                <th>  HQIC               </th> <td>2217.700</td> \n",
       "</tr>\n",
       "<tr>\n",
       "  <th></th>                              <td> - 348</td>              <th>                     </th>     <td> </td>    \n",
       "</tr>\n",
       "<tr>\n",
       "  <th>Covariance Type:</th>                <td>opg</td>               <th>                     </th>     <td> </td>    \n",
       "</tr>\n",
       "</table>\n",
       "<table class=\"simpletable\">\n",
       "<tr>\n",
       "      <td></td>        <th>coef</th>     <th>std err</th>      <th>z</th>      <th>P>|z|</th>  <th>[0.025</th>    <th>0.975]</th>  \n",
       "</tr>\n",
       "<tr>\n",
       "  <th>ar.L1</th>    <td>    0.9246</td> <td>    0.045</td> <td>   20.572</td> <td> 0.000</td> <td>    0.836</td> <td>    1.013</td>\n",
       "</tr>\n",
       "<tr>\n",
       "  <th>ma.L1</th>    <td>   -0.9441</td> <td>    0.070</td> <td>  -13.541</td> <td> 0.000</td> <td>   -1.081</td> <td>   -0.807</td>\n",
       "</tr>\n",
       "<tr>\n",
       "  <th>ma.L2</th>    <td>    0.1287</td> <td>    0.060</td> <td>    2.157</td> <td> 0.031</td> <td>    0.012</td> <td>    0.246</td>\n",
       "</tr>\n",
       "<tr>\n",
       "  <th>ar.S.L12</th> <td>    0.9972</td> <td>    0.001</td> <td>  706.317</td> <td> 0.000</td> <td>    0.994</td> <td>    1.000</td>\n",
       "</tr>\n",
       "<tr>\n",
       "  <th>ma.S.L12</th> <td>   -0.7494</td> <td>    0.043</td> <td>  -17.353</td> <td> 0.000</td> <td>   -0.834</td> <td>   -0.665</td>\n",
       "</tr>\n",
       "<tr>\n",
       "  <th>sigma2</th>   <td>   29.2905</td> <td>    1.716</td> <td>   17.068</td> <td> 0.000</td> <td>   25.927</td> <td>   32.654</td>\n",
       "</tr>\n",
       "</table>\n",
       "<table class=\"simpletable\">\n",
       "<tr>\n",
       "  <th>Ljung-Box (L1) (Q):</th>     <td>0.00</td> <th>  Jarque-Bera (JB):  </th> <td>67.40</td>\n",
       "</tr>\n",
       "<tr>\n",
       "  <th>Prob(Q):</th>                <td>0.99</td> <th>  Prob(JB):          </th> <td>0.00</td> \n",
       "</tr>\n",
       "<tr>\n",
       "  <th>Heteroskedasticity (H):</th> <td>0.86</td> <th>  Skew:              </th> <td>-0.11</td>\n",
       "</tr>\n",
       "<tr>\n",
       "  <th>Prob(H) (two-sided):</th>    <td>0.40</td> <th>  Kurtosis:          </th> <td>5.15</td> \n",
       "</tr>\n",
       "</table><br/><br/>Warnings:<br/>[1] Covariance matrix calculated using the outer product of gradients (complex-step)."
      ],
      "text/plain": [
       "<class 'statsmodels.iolib.summary.Summary'>\n",
       "\"\"\"\n",
       "                                      SARIMAX Results                                       \n",
       "============================================================================================\n",
       "Dep. Variable:                                    y   No. Observations:                  348\n",
       "Model:             SARIMAX(1, 1, 2)x(1, 0, [1], 12)   Log Likelihood               -1098.252\n",
       "Date:                              Sun, 19 Dec 2021   AIC                           2208.504\n",
       "Time:                                      18:36:04   BIC                           2231.600\n",
       "Sample:                                           0   HQIC                          2217.700\n",
       "                                              - 348                                         \n",
       "Covariance Type:                                opg                                         \n",
       "==============================================================================\n",
       "                 coef    std err          z      P>|z|      [0.025      0.975]\n",
       "------------------------------------------------------------------------------\n",
       "ar.L1          0.9246      0.045     20.572      0.000       0.836       1.013\n",
       "ma.L1         -0.9441      0.070    -13.541      0.000      -1.081      -0.807\n",
       "ma.L2          0.1287      0.060      2.157      0.031       0.012       0.246\n",
       "ar.S.L12       0.9972      0.001    706.317      0.000       0.994       1.000\n",
       "ma.S.L12      -0.7494      0.043    -17.353      0.000      -0.834      -0.665\n",
       "sigma2        29.2905      1.716     17.068      0.000      25.927      32.654\n",
       "===================================================================================\n",
       "Ljung-Box (L1) (Q):                   0.00   Jarque-Bera (JB):                67.40\n",
       "Prob(Q):                              0.99   Prob(JB):                         0.00\n",
       "Heteroskedasticity (H):               0.86   Skew:                            -0.11\n",
       "Prob(H) (two-sided):                  0.40   Kurtosis:                         5.15\n",
       "===================================================================================\n",
       "\n",
       "Warnings:\n",
       "[1] Covariance matrix calculated using the outer product of gradients (complex-step).\n",
       "\"\"\""
      ]
     },
     "execution_count": 63,
     "metadata": {},
     "output_type": "execute_result"
    }
   ],
   "source": [
    "auto_arima(df['Employees'],seasonal=True,m=12).summary()"
   ]
  },
  {
   "cell_type": "markdown",
   "metadata": {},
   "source": [
    "Ожинаемый результат ARIMA (0,1,0) с сезонностью (2,0,0,12).\n",
    "### 4. Разделите данные на train/test \n",
    "Установите один год (12 записей) для тестирования. Есть несколько способов сделать это!"
   ]
  },
  {
   "cell_type": "code",
   "execution_count": 64,
   "metadata": {},
   "outputs": [],
   "source": [
    "train = df.iloc[:len(df)-12]\n",
    "test = df.iloc[len(df)-12:]"
   ]
  },
  {
   "cell_type": "code",
   "execution_count": 65,
   "metadata": {},
   "outputs": [],
   "source": [
    "from statsmodels.tsa.statespace.sarimax import SARIMAX"
   ]
  },
  {
   "cell_type": "markdown",
   "metadata": {},
   "source": [
    "### 5. Обучите SARIMA(0,1,0)(2,0,0,12) на train"
   ]
  },
  {
   "cell_type": "code",
   "execution_count": 66,
   "metadata": {},
   "outputs": [
    {
     "name": "stderr",
     "output_type": "stream",
     "text": [
      "C:\\Users\\anoma\\anaconda3\\lib\\site-packages\\statsmodels\\tsa\\base\\tsa_model.py:524: ValueWarning: No frequency information was provided, so inferred frequency MS will be used.\n",
      "  warnings.warn('No frequency information was'\n",
      "C:\\Users\\anoma\\anaconda3\\lib\\site-packages\\statsmodels\\tsa\\base\\tsa_model.py:524: ValueWarning: No frequency information was provided, so inferred frequency MS will be used.\n",
      "  warnings.warn('No frequency information was'\n",
      "C:\\Users\\anoma\\anaconda3\\lib\\site-packages\\statsmodels\\tsa\\statespace\\sarimax.py:966: UserWarning: Non-stationary starting autoregressive parameters found. Using zeros as starting parameters.\n",
      "  warn('Non-stationary starting autoregressive parameters'\n",
      "C:\\Users\\anoma\\anaconda3\\lib\\site-packages\\statsmodels\\tsa\\statespace\\sarimax.py:978: UserWarning: Non-invertible starting MA parameters found. Using zeros as starting parameters.\n",
      "  warn('Non-invertible starting MA parameters found.'\n",
      "C:\\Users\\anoma\\anaconda3\\lib\\site-packages\\statsmodels\\tsa\\statespace\\sarimax.py:997: UserWarning: Non-stationary starting seasonal autoregressive Using zeros as starting parameters.\n",
      "  warn('Non-stationary starting seasonal autoregressive'\n"
     ]
    },
    {
     "data": {
      "text/html": [
       "<table class=\"simpletable\">\n",
       "<caption>SARIMAX Results</caption>\n",
       "<tr>\n",
       "  <th>Dep. Variable:</th>               <td>Employees</td>            <th>  No. Observations:  </th>    <td>336</td>   \n",
       "</tr>\n",
       "<tr>\n",
       "  <th>Model:</th>           <td>SARIMAX(1, 1, 2)x(1, 0, [1], 12)</td> <th>  Log Likelihood     </th> <td>-1058.058</td>\n",
       "</tr>\n",
       "<tr>\n",
       "  <th>Date:</th>                    <td>Sun, 19 Dec 2021</td>         <th>  AIC                </th> <td>2128.117</td> \n",
       "</tr>\n",
       "<tr>\n",
       "  <th>Time:</th>                        <td>18:36:35</td>             <th>  BIC                </th> <td>2151.001</td> \n",
       "</tr>\n",
       "<tr>\n",
       "  <th>Sample:</th>                     <td>01-01-1990</td>            <th>  HQIC               </th> <td>2137.240</td> \n",
       "</tr>\n",
       "<tr>\n",
       "  <th></th>                           <td>- 12-01-2017</td>           <th>                     </th>     <td> </td>    \n",
       "</tr>\n",
       "<tr>\n",
       "  <th>Covariance Type:</th>                <td>opg</td>               <th>                     </th>     <td> </td>    \n",
       "</tr>\n",
       "</table>\n",
       "<table class=\"simpletable\">\n",
       "<tr>\n",
       "      <td></td>        <th>coef</th>     <th>std err</th>      <th>z</th>      <th>P>|z|</th>  <th>[0.025</th>    <th>0.975]</th>  \n",
       "</tr>\n",
       "<tr>\n",
       "  <th>ar.L1</th>    <td>    0.9242</td> <td>    0.043</td> <td>   21.309</td> <td> 0.000</td> <td>    0.839</td> <td>    1.009</td>\n",
       "</tr>\n",
       "<tr>\n",
       "  <th>ma.L1</th>    <td>   -0.9586</td> <td>    0.070</td> <td>  -13.608</td> <td> 0.000</td> <td>   -1.097</td> <td>   -0.821</td>\n",
       "</tr>\n",
       "<tr>\n",
       "  <th>ma.L2</th>    <td>    0.1498</td> <td>    0.061</td> <td>    2.448</td> <td> 0.014</td> <td>    0.030</td> <td>    0.270</td>\n",
       "</tr>\n",
       "<tr>\n",
       "  <th>ar.S.L12</th> <td>    0.9973</td> <td>    0.001</td> <td>  733.473</td> <td> 0.000</td> <td>    0.995</td> <td>    1.000</td>\n",
       "</tr>\n",
       "<tr>\n",
       "  <th>ma.S.L12</th> <td>   -0.7522</td> <td>    0.044</td> <td>  -17.167</td> <td> 0.000</td> <td>   -0.838</td> <td>   -0.666</td>\n",
       "</tr>\n",
       "<tr>\n",
       "  <th>sigma2</th>   <td>   28.7570</td> <td>    1.683</td> <td>   17.084</td> <td> 0.000</td> <td>   25.458</td> <td>   32.056</td>\n",
       "</tr>\n",
       "</table>\n",
       "<table class=\"simpletable\">\n",
       "<tr>\n",
       "  <th>Ljung-Box (L1) (Q):</th>     <td>0.00</td> <th>  Jarque-Bera (JB):  </th> <td>73.31</td>\n",
       "</tr>\n",
       "<tr>\n",
       "  <th>Prob(Q):</th>                <td>0.98</td> <th>  Prob(JB):          </th> <td>0.00</td> \n",
       "</tr>\n",
       "<tr>\n",
       "  <th>Heteroskedasticity (H):</th> <td>0.91</td> <th>  Skew:              </th> <td>-0.17</td>\n",
       "</tr>\n",
       "<tr>\n",
       "  <th>Prob(H) (two-sided):</th>    <td>0.63</td> <th>  Kurtosis:          </th> <td>5.27</td> \n",
       "</tr>\n",
       "</table><br/><br/>Warnings:<br/>[1] Covariance matrix calculated using the outer product of gradients (complex-step)."
      ],
      "text/plain": [
       "<class 'statsmodels.iolib.summary.Summary'>\n",
       "\"\"\"\n",
       "                                      SARIMAX Results                                       \n",
       "============================================================================================\n",
       "Dep. Variable:                            Employees   No. Observations:                  336\n",
       "Model:             SARIMAX(1, 1, 2)x(1, 0, [1], 12)   Log Likelihood               -1058.058\n",
       "Date:                              Sun, 19 Dec 2021   AIC                           2128.117\n",
       "Time:                                      18:36:35   BIC                           2151.001\n",
       "Sample:                                  01-01-1990   HQIC                          2137.240\n",
       "                                       - 12-01-2017                                         \n",
       "Covariance Type:                                opg                                         \n",
       "==============================================================================\n",
       "                 coef    std err          z      P>|z|      [0.025      0.975]\n",
       "------------------------------------------------------------------------------\n",
       "ar.L1          0.9242      0.043     21.309      0.000       0.839       1.009\n",
       "ma.L1         -0.9586      0.070    -13.608      0.000      -1.097      -0.821\n",
       "ma.L2          0.1498      0.061      2.448      0.014       0.030       0.270\n",
       "ar.S.L12       0.9973      0.001    733.473      0.000       0.995       1.000\n",
       "ma.S.L12      -0.7522      0.044    -17.167      0.000      -0.838      -0.666\n",
       "sigma2        28.7570      1.683     17.084      0.000      25.458      32.056\n",
       "===================================================================================\n",
       "Ljung-Box (L1) (Q):                   0.00   Jarque-Bera (JB):                73.31\n",
       "Prob(Q):                              0.98   Prob(JB):                         0.00\n",
       "Heteroskedasticity (H):               0.91   Skew:                            -0.17\n",
       "Prob(H) (two-sided):                  0.63   Kurtosis:                         5.27\n",
       "===================================================================================\n",
       "\n",
       "Warnings:\n",
       "[1] Covariance matrix calculated using the outer product of gradients (complex-step).\n",
       "\"\"\""
      ]
     },
     "execution_count": 66,
     "metadata": {},
     "output_type": "execute_result"
    }
   ],
   "source": [
    "model = SARIMAX(train['Employees'],order=(1, 1, 2),seasonal_order=(1, 0, 1, 12))\n",
    "results = model.fit()\n",
    "results.summary()"
   ]
  },
  {
   "cell_type": "code",
   "execution_count": 67,
   "metadata": {},
   "outputs": [
    {
     "name": "stderr",
     "output_type": "stream",
     "text": [
      "C:\\Users\\anoma\\anaconda3\\lib\\site-packages\\statsmodels\\tsa\\base\\tsa_model.py:524: ValueWarning: No frequency information was provided, so inferred frequency MS will be used.\n",
      "  warnings.warn('No frequency information was'\n",
      "C:\\Users\\anoma\\anaconda3\\lib\\site-packages\\statsmodels\\tsa\\base\\tsa_model.py:524: ValueWarning: No frequency information was provided, so inferred frequency MS will be used.\n",
      "  warnings.warn('No frequency information was'\n"
     ]
    },
    {
     "data": {
      "text/html": [
       "<table class=\"simpletable\">\n",
       "<caption>SARIMAX Results</caption>\n",
       "<tr>\n",
       "  <th>Dep. Variable:</th>              <td>Employees</td>           <th>  No. Observations:  </th>    <td>336</td>   \n",
       "</tr>\n",
       "<tr>\n",
       "  <th>Model:</th>           <td>SARIMAX(0, 1, 0)x(2, 0, 0, 12)</td> <th>  Log Likelihood     </th> <td>-1095.407</td>\n",
       "</tr>\n",
       "<tr>\n",
       "  <th>Date:</th>                   <td>Sun, 19 Dec 2021</td>        <th>  AIC                </th> <td>2196.814</td> \n",
       "</tr>\n",
       "<tr>\n",
       "  <th>Time:</th>                       <td>18:36:37</td>            <th>  BIC                </th> <td>2208.256</td> \n",
       "</tr>\n",
       "<tr>\n",
       "  <th>Sample:</th>                    <td>01-01-1990</td>           <th>  HQIC               </th> <td>2201.375</td> \n",
       "</tr>\n",
       "<tr>\n",
       "  <th></th>                          <td>- 12-01-2017</td>          <th>                     </th>     <td> </td>    \n",
       "</tr>\n",
       "<tr>\n",
       "  <th>Covariance Type:</th>               <td>opg</td>              <th>                     </th>     <td> </td>    \n",
       "</tr>\n",
       "</table>\n",
       "<table class=\"simpletable\">\n",
       "<tr>\n",
       "      <td></td>        <th>coef</th>     <th>std err</th>      <th>z</th>      <th>P>|z|</th>  <th>[0.025</th>    <th>0.975]</th>  \n",
       "</tr>\n",
       "<tr>\n",
       "  <th>ar.S.L12</th> <td>    0.5204</td> <td>    0.040</td> <td>   13.051</td> <td> 0.000</td> <td>    0.442</td> <td>    0.599</td>\n",
       "</tr>\n",
       "<tr>\n",
       "  <th>ar.S.L24</th> <td>    0.4385</td> <td>    0.041</td> <td>   10.593</td> <td> 0.000</td> <td>    0.357</td> <td>    0.520</td>\n",
       "</tr>\n",
       "<tr>\n",
       "  <th>sigma2</th>   <td>   37.1907</td> <td>    2.165</td> <td>   17.175</td> <td> 0.000</td> <td>   32.947</td> <td>   41.435</td>\n",
       "</tr>\n",
       "</table>\n",
       "<table class=\"simpletable\">\n",
       "<tr>\n",
       "  <th>Ljung-Box (L1) (Q):</th>     <td>0.02</td> <th>  Jarque-Bera (JB):  </th> <td>56.66</td>\n",
       "</tr>\n",
       "<tr>\n",
       "  <th>Prob(Q):</th>                <td>0.89</td> <th>  Prob(JB):          </th> <td>0.00</td> \n",
       "</tr>\n",
       "<tr>\n",
       "  <th>Heteroskedasticity (H):</th> <td>1.06</td> <th>  Skew:              </th> <td>-0.35</td>\n",
       "</tr>\n",
       "<tr>\n",
       "  <th>Prob(H) (two-sided):</th>    <td>0.74</td> <th>  Kurtosis:          </th> <td>4.89</td> \n",
       "</tr>\n",
       "</table><br/><br/>Warnings:<br/>[1] Covariance matrix calculated using the outer product of gradients (complex-step)."
      ],
      "text/plain": [
       "<class 'statsmodels.iolib.summary.Summary'>\n",
       "\"\"\"\n",
       "                                     SARIMAX Results                                      \n",
       "==========================================================================================\n",
       "Dep. Variable:                          Employees   No. Observations:                  336\n",
       "Model:             SARIMAX(0, 1, 0)x(2, 0, 0, 12)   Log Likelihood               -1095.407\n",
       "Date:                            Sun, 19 Dec 2021   AIC                           2196.814\n",
       "Time:                                    18:36:37   BIC                           2208.256\n",
       "Sample:                                01-01-1990   HQIC                          2201.375\n",
       "                                     - 12-01-2017                                         \n",
       "Covariance Type:                              opg                                         \n",
       "==============================================================================\n",
       "                 coef    std err          z      P>|z|      [0.025      0.975]\n",
       "------------------------------------------------------------------------------\n",
       "ar.S.L12       0.5204      0.040     13.051      0.000       0.442       0.599\n",
       "ar.S.L24       0.4385      0.041     10.593      0.000       0.357       0.520\n",
       "sigma2        37.1907      2.165     17.175      0.000      32.947      41.435\n",
       "===================================================================================\n",
       "Ljung-Box (L1) (Q):                   0.02   Jarque-Bera (JB):                56.66\n",
       "Prob(Q):                              0.89   Prob(JB):                         0.00\n",
       "Heteroskedasticity (H):               1.06   Skew:                            -0.35\n",
       "Prob(H) (two-sided):                  0.74   Kurtosis:                         4.89\n",
       "===================================================================================\n",
       "\n",
       "Warnings:\n",
       "[1] Covariance matrix calculated using the outer product of gradients (complex-step).\n",
       "\"\"\""
      ]
     },
     "execution_count": 67,
     "metadata": {},
     "output_type": "execute_result"
    }
   ],
   "source": [
    "model = SARIMAX(train['Employees'],order=(0, 1, 0),seasonal_order=(2, 0, 0, 12)) #изменяем параметры\n",
    "results = model.fit()\n",
    "results.summary()"
   ]
  },
  {
   "cell_type": "markdown",
   "metadata": {},
   "source": [
    "### 6. Получите прогнозируемые значения"
   ]
  },
  {
   "cell_type": "code",
   "execution_count": 68,
   "metadata": {},
   "outputs": [],
   "source": [
    "start=len(train)\n",
    "end=len(train)+len(test)-1\n",
    "predictions = results.predict(start=start, end=end, \n",
    "dynamic=False, typ='levels').rename(' Predictions SARIMAX(1, 1, 2)x(1, 0, [1], 12)')"
   ]
  },
  {
   "cell_type": "code",
   "execution_count": 69,
   "metadata": {},
   "outputs": [
    {
     "data": {
      "text/plain": [
       "<AxesSubplot:xlabel='Date'>"
      ]
     },
     "execution_count": 69,
     "metadata": {},
     "output_type": "execute_result"
    },
    {
     "data": {
      "image/png": "[encoded data removed]",
      "text/plain": [
       "<Figure size 432x288 with 1 Axes>"
      ]
     },
     "metadata": {
      "needs_background": "light"
     },
     "output_type": "display_data"
    }
   ],
   "source": [
    "test['Employees'].plot(legend=True)\n",
    "predictions.plot(legend=True)"
   ]
  },
  {
   "cell_type": "markdown",
   "metadata": {},
   "source": [
    "### 7. Нарисуйте графики прогнозируемых и известных значений\n"
   ]
  },
  {
   "cell_type": "code",
   "execution_count": 70,
   "metadata": {},
   "outputs": [],
   "source": [
    "title = 'California Hospitality Industry Employees' \n",
    "ylabel = 'Thousands of Persons' \n",
    "xlabel = '' "
   ]
  },
  {
   "cell_type": "code",
   "execution_count": 71,
   "metadata": {},
   "outputs": [
    {
     "data": {
      "text/plain": [
       "[Text(0.5, 0, ''), Text(0, 0.5, 'Thousands of Persons')]"
      ]
     },
     "execution_count": 71,
     "metadata": {},
     "output_type": "execute_result"
    },
    {
     "data": {
      "image/png": "[encoded data removed]",
      "text/plain": [
       "<Figure size 864x432 with 1 Axes>"
      ]
     },
     "metadata": {
      "needs_background": "light"
     },
     "output_type": "display_data"
    }
   ],
   "source": [
    "ax = test['Employees'].plot(legend=True, figsize=(12,6),title=title) #добавлем заголовок\n",
    "predictions.plot(legend=True)\n",
    "ax.autoscale(axis='x',tight=True)\n",
    "ax.set(xlabel=xlabel, ylabel=ylabel)"
   ]
  },
  {
   "cell_type": "code",
   "execution_count": 72,
   "metadata": {},
   "outputs": [
    {
     "name": "stdout",
     "output_type": "stream",
     "text": [
      "SARIMA(0,1,0)(2,0,0,12) MSE Error: 182.8506635\n",
      "SARIMA(0,1,0)(2,0,0,12) RMSE Error:  13.5222285\n"
     ]
    }
   ],
   "source": [
    "from sklearn.metrics import mean_squared_error\n",
    "from statsmodels.tools.eval_measures import rmse\n",
    "\n",
    "mse_error = mean_squared_error(test['Employees'], predictions)\n",
    "rmse_error = rmse(test['Employees'], predictions)\n",
    "\n",
    "print(f'SARIMA(0,1,0)(2,0,0,12) MSE Error: {mse_error:11.10}')  \n",
    "print(f'SARIMA(0,1,0)(2,0,0,12) RMSE Error: {rmse_error:11.10}')"
   ]
  },
  {
   "cell_type": "markdown",
   "metadata": {},
   "source": [
    "### 8. Оцените качество модели с помощью MSE и RMSE\n"
   ]
  },
  {
   "cell_type": "code",
   "execution_count": 73,
   "metadata": {},
   "outputs": [
    {
     "name": "stdout",
     "output_type": "stream",
     "text": [
      "SARIMA(0,1,0)(2,0,0,12) MSE Error: 182.8506635\n",
      "SARIMA(0,1,0)(2,0,0,12) RMSE Error:  13.5222285\n"
     ]
    }
   ],
   "source": [
    "print(f'SARIMA(0,1,0)(2,0,0,12) MSE Error: {mse_error:11.10}') \n",
    "print(f'SARIMA(0,1,0)(2,0,0,12) RMSE Error: {rmse_error:11.10}') "
   ]
  },
  {
   "cell_type": "markdown",
   "metadata": {},
   "source": [
    "### 9. Натренируйте модель на полном датасете и предскажите на год вперед"
   ]
  },
  {
   "cell_type": "code",
   "execution_count": 76,
   "metadata": {},
   "outputs": [
    {
     "name": "stderr",
     "output_type": "stream",
     "text": [
      "C:\\Users\\anoma\\anaconda3\\lib\\site-packages\\statsmodels\\tsa\\base\\tsa_model.py:524: ValueWarning: No frequency information was provided, so inferred frequency MS will be used.\n",
      "  warnings.warn('No frequency information was'\n",
      "C:\\Users\\anoma\\anaconda3\\lib\\site-packages\\statsmodels\\tsa\\base\\tsa_model.py:524: ValueWarning: No frequency information was provided, so inferred frequency MS will be used.\n",
      "  warnings.warn('No frequency information was'\n",
      "C:\\Users\\anoma\\anaconda3\\lib\\site-packages\\statsmodels\\tsa\\statespace\\sarimax.py:966: UserWarning: Non-stationary starting autoregressive parameters found. Using zeros as starting parameters.\n",
      "  warn('Non-stationary starting autoregressive parameters'\n",
      "C:\\Users\\anoma\\anaconda3\\lib\\site-packages\\statsmodels\\tsa\\statespace\\sarimax.py:978: UserWarning: Non-invertible starting MA parameters found. Using zeros as starting parameters.\n",
      "  warn('Non-invertible starting MA parameters found.'\n",
      "C:\\Users\\anoma\\anaconda3\\lib\\site-packages\\statsmodels\\tsa\\statespace\\sarimax.py:997: UserWarning: Non-stationary starting seasonal autoregressive Using zeros as starting parameters.\n",
      "  warn('Non-stationary starting seasonal autoregressive'\n"
     ]
    },
    {
     "data": {
      "text/html": [
       "<table class=\"simpletable\">\n",
       "<caption>SARIMAX Results</caption>\n",
       "<tr>\n",
       "  <th>Dep. Variable:</th>               <td>Employees</td>            <th>  No. Observations:  </th>    <td>348</td>   \n",
       "</tr>\n",
       "<tr>\n",
       "  <th>Model:</th>           <td>SARIMAX(1, 1, 2)x(1, 0, [1], 12)</td> <th>  Log Likelihood     </th> <td>-1098.252</td>\n",
       "</tr>\n",
       "<tr>\n",
       "  <th>Date:</th>                    <td>Sun, 19 Dec 2021</td>         <th>  AIC                </th> <td>2208.504</td> \n",
       "</tr>\n",
       "<tr>\n",
       "  <th>Time:</th>                        <td>18:37:25</td>             <th>  BIC                </th> <td>2231.600</td> \n",
       "</tr>\n",
       "<tr>\n",
       "  <th>Sample:</th>                     <td>01-01-1990</td>            <th>  HQIC               </th> <td>2217.700</td> \n",
       "</tr>\n",
       "<tr>\n",
       "  <th></th>                           <td>- 12-01-2018</td>           <th>                     </th>     <td> </td>    \n",
       "</tr>\n",
       "<tr>\n",
       "  <th>Covariance Type:</th>                <td>opg</td>               <th>                     </th>     <td> </td>    \n",
       "</tr>\n",
       "</table>\n",
       "<table class=\"simpletable\">\n",
       "<tr>\n",
       "      <td></td>        <th>coef</th>     <th>std err</th>      <th>z</th>      <th>P>|z|</th>  <th>[0.025</th>    <th>0.975]</th>  \n",
       "</tr>\n",
       "<tr>\n",
       "  <th>ar.L1</th>    <td>    0.9246</td> <td>    0.045</td> <td>   20.572</td> <td> 0.000</td> <td>    0.836</td> <td>    1.013</td>\n",
       "</tr>\n",
       "<tr>\n",
       "  <th>ma.L1</th>    <td>   -0.9441</td> <td>    0.070</td> <td>  -13.541</td> <td> 0.000</td> <td>   -1.081</td> <td>   -0.807</td>\n",
       "</tr>\n",
       "<tr>\n",
       "  <th>ma.L2</th>    <td>    0.1287</td> <td>    0.060</td> <td>    2.157</td> <td> 0.031</td> <td>    0.012</td> <td>    0.246</td>\n",
       "</tr>\n",
       "<tr>\n",
       "  <th>ar.S.L12</th> <td>    0.9972</td> <td>    0.001</td> <td>  706.317</td> <td> 0.000</td> <td>    0.994</td> <td>    1.000</td>\n",
       "</tr>\n",
       "<tr>\n",
       "  <th>ma.S.L12</th> <td>   -0.7494</td> <td>    0.043</td> <td>  -17.353</td> <td> 0.000</td> <td>   -0.834</td> <td>   -0.665</td>\n",
       "</tr>\n",
       "<tr>\n",
       "  <th>sigma2</th>   <td>   29.2905</td> <td>    1.716</td> <td>   17.068</td> <td> 0.000</td> <td>   25.927</td> <td>   32.654</td>\n",
       "</tr>\n",
       "</table>\n",
       "<table class=\"simpletable\">\n",
       "<tr>\n",
       "  <th>Ljung-Box (L1) (Q):</th>     <td>0.00</td> <th>  Jarque-Bera (JB):  </th> <td>67.40</td>\n",
       "</tr>\n",
       "<tr>\n",
       "  <th>Prob(Q):</th>                <td>0.99</td> <th>  Prob(JB):          </th> <td>0.00</td> \n",
       "</tr>\n",
       "<tr>\n",
       "  <th>Heteroskedasticity (H):</th> <td>0.86</td> <th>  Skew:              </th> <td>-0.11</td>\n",
       "</tr>\n",
       "<tr>\n",
       "  <th>Prob(H) (two-sided):</th>    <td>0.40</td> <th>  Kurtosis:          </th> <td>5.15</td> \n",
       "</tr>\n",
       "</table><br/><br/>Warnings:<br/>[1] Covariance matrix calculated using the outer product of gradients (complex-step)."
      ],
      "text/plain": [
       "<class 'statsmodels.iolib.summary.Summary'>\n",
       "\"\"\"\n",
       "                                      SARIMAX Results                                       \n",
       "============================================================================================\n",
       "Dep. Variable:                            Employees   No. Observations:                  348\n",
       "Model:             SARIMAX(1, 1, 2)x(1, 0, [1], 12)   Log Likelihood               -1098.252\n",
       "Date:                              Sun, 19 Dec 2021   AIC                           2208.504\n",
       "Time:                                      18:37:25   BIC                           2231.600\n",
       "Sample:                                  01-01-1990   HQIC                          2217.700\n",
       "                                       - 12-01-2018                                         \n",
       "Covariance Type:                                opg                                         \n",
       "==============================================================================\n",
       "                 coef    std err          z      P>|z|      [0.025      0.975]\n",
       "------------------------------------------------------------------------------\n",
       "ar.L1          0.9246      0.045     20.572      0.000       0.836       1.013\n",
       "ma.L1         -0.9441      0.070    -13.541      0.000      -1.081      -0.807\n",
       "ma.L2          0.1287      0.060      2.157      0.031       0.012       0.246\n",
       "ar.S.L12       0.9972      0.001    706.317      0.000       0.994       1.000\n",
       "ma.S.L12      -0.7494      0.043    -17.353      0.000      -0.834      -0.665\n",
       "sigma2        29.2905      1.716     17.068      0.000      25.927      32.654\n",
       "===================================================================================\n",
       "Ljung-Box (L1) (Q):                   0.00   Jarque-Bera (JB):                67.40\n",
       "Prob(Q):                              0.99   Prob(JB):                         0.00\n",
       "Heteroskedasticity (H):               0.86   Skew:                            -0.11\n",
       "Prob(H) (two-sided):                  0.40   Kurtosis:                         5.15\n",
       "===================================================================================\n",
       "\n",
       "Warnings:\n",
       "[1] Covariance matrix calculated using the outer product of gradients (complex-step).\n",
       "\"\"\""
      ]
     },
     "execution_count": 76,
     "metadata": {},
     "output_type": "execute_result"
    }
   ],
   "source": [
    "model = SARIMAX(df['Employees'],order=(1, 1, \n",
    "2),seasonal_order=(1, 0, 1, 12))\n",
    "results = model.fit()\n",
    "results.summary()"
   ]
  },
  {
   "cell_type": "code",
   "execution_count": 77,
   "metadata": {},
   "outputs": [],
   "source": [
    "fcast = results.predict(len(df)-1,len(df)+11,typ='levels').rename('SARIMAX(1, 1, 2)x(1, 0, [1], 12) ')"
   ]
  },
  {
   "cell_type": "markdown",
   "metadata": {},
   "source": [
    "### 10. Постройте график предсказаний и график исходных данных\n"
   ]
  },
  {
   "cell_type": "code",
   "execution_count": 78,
   "metadata": {},
   "outputs": [
    {
     "data": {
      "text/plain": [
       "<AxesSubplot:>"
      ]
     },
     "execution_count": 78,
     "metadata": {},
     "output_type": "execute_result"
    },
    {
     "data": {
      "image/png": "[encoded data removed]",
      "text/plain": [
       "<Figure size 432x288 with 1 Axes>"
      ]
     },
     "metadata": {
      "needs_background": "light"
     },
     "output_type": "display_data"
    }
   ],
   "source": [
    "fcast.plot()"
   ]
  },
  {
   "cell_type": "code",
   "execution_count": 79,
   "metadata": {},
   "outputs": [],
   "source": [
    "title = 'California Hospitality Industry Employees' \n",
    "ylabel = 'Thousands of Persons' \n",
    "xlabel = ''"
   ]
  },
  {
   "cell_type": "code",
   "execution_count": 80,
   "metadata": {},
   "outputs": [
    {
     "data": {
      "text/plain": [
       "[Text(0.5, 0, ''), Text(0, 0.5, 'Thousands of Persons')]"
      ]
     },
     "execution_count": 80,
     "metadata": {},
     "output_type": "execute_result"
    },
    {
     "data": {
      "image/png": "[encoded data removed]",
      "text/plain": [
       "<Figure size 864x432 with 1 Axes>"
      ]
     },
     "metadata": {
      "needs_background": "light"
     },
     "output_type": "display_data"
    }
   ],
   "source": [
    "ax = df['Employees'].plot(legend=True, figsize=(12,6),title=title) \n",
    "fcast.plot(legend=True)\n",
    "ax.autoscale(axis='x',tight=True)\n",
    "ax.set(xlabel=xlabel, ylabel=ylabel)"
   ]
  },
  {
   "cell_type": "code",
   "execution_count": 43,
   "metadata": {},
   "outputs": [
    {
     "name": "stdout",
     "output_type": "stream",
     "text": [
      "Collecting pystan\n",
      "  Downloading pystan-3.3.0-py3-none-any.whl (13 kB)\n",
      "Collecting aiohttp<4.0,>=3.6\n",
      "  Downloading aiohttp-3.8.1-cp38-cp38-win_amd64.whl (555 kB)\n",
      "Requirement already satisfied: numpy<2.0,>=1.7 in c:\\users\\anoma\\anaconda3\\lib\\site-packages (from pystan) (1.20.1)\n",
      "Collecting pysimdjson<4.0,>=3.2\n",
      "  Downloading pysimdjson-3.2.0-cp38-cp38-win_amd64.whl (151 kB)\n",
      "Collecting pystan\n",
      "  Downloading pystan-3.2.0-py3-none-any.whl (13 kB)\n",
      "  Downloading pystan-3.1.1-py3-none-any.whl (13 kB)\n",
      "Collecting clikit<0.7,>=0.6\n",
      "  Downloading clikit-0.6.2-py2.py3-none-any.whl (91 kB)\n",
      "Collecting pystan\n",
      "  Downloading pystan-3.1.0-py3-none-any.whl (13 kB)\n",
      "  Downloading pystan-3.0.2-py3-none-any.whl (13 kB)\n",
      "  Downloading pystan-3.0.1-py3-none-any.whl (12 kB)\n",
      "  Downloading pystan-3.0.0-py3-none-any.whl (12 kB)\n",
      "  Downloading pystan-2.19.1.1-cp38-cp38-win_amd64.whl (79.8 MB)\n",
      "Requirement already satisfied: Cython!=0.25.1,>=0.22 in c:\\users\\anoma\\anaconda3\\lib\\site-packages (from pystan) (0.29.23)\n",
      "Installing collected packages: pystan\n",
      "Successfully installed pystan-2.19.1.1\n"
     ]
    }
   ],
   "source": [
    "!pip install pystan"
   ]
  },
  {
   "cell_type": "code",
   "execution_count": 81,
   "metadata": {},
   "outputs": [
    {
     "name": "stdout",
     "output_type": "stream",
     "text": [
      "Requirement already satisfied: fbprophet in c:\\users\\anoma\\anaconda3\\lib\\site-packages (0.7.1)\n",
      "Requirement already satisfied: setuptools-git>=1.2 in c:\\users\\anoma\\anaconda3\\lib\\site-packages (from fbprophet) (1.2)\n",
      "Requirement already satisfied: holidays>=0.10.2 in c:\\users\\anoma\\anaconda3\\lib\\site-packages (from fbprophet) (0.11.3.1)\n",
      "Requirement already satisfied: convertdate>=2.1.2 in c:\\users\\anoma\\anaconda3\\lib\\site-packages (from fbprophet) (2.3.2)\n",
      "Requirement already satisfied: numpy>=1.15.4 in c:\\users\\anoma\\anaconda3\\lib\\site-packages (from fbprophet) (1.20.1)\n",
      "Requirement already satisfied: matplotlib>=2.0.0 in c:\\users\\anoma\\anaconda3\\lib\\site-packages (from fbprophet) (3.3.4)\n",
      "Requirement already satisfied: cmdstanpy==0.9.5 in c:\\users\\anoma\\anaconda3\\lib\\site-packages (from fbprophet) (0.9.5)\n",
      "Requirement already satisfied: LunarCalendar>=0.0.9 in c:\\users\\anoma\\anaconda3\\lib\\site-packages (from fbprophet) (0.0.9)\n",
      "Requirement already satisfied: python-dateutil>=2.8.0 in c:\\users\\anoma\\anaconda3\\lib\\site-packages (from fbprophet) (2.8.1)\n",
      "Requirement already satisfied: pystan>=2.14 in c:\\users\\anoma\\anaconda3\\lib\\site-packages (from fbprophet) (2.19.1.1)\n",
      "Requirement already satisfied: Cython>=0.22 in c:\\users\\anoma\\anaconda3\\lib\\site-packages (from fbprophet) (0.29.23)\n",
      "Requirement already satisfied: tqdm>=4.36.1 in c:\\users\\anoma\\anaconda3\\lib\\site-packages (from fbprophet) (4.59.0)\n",
      "Requirement already satisfied: pandas>=1.0.4 in c:\\users\\anoma\\anaconda3\\lib\\site-packages (from fbprophet) (1.2.4)\n",
      "Requirement already satisfied: pytz>=2014.10 in c:\\users\\anoma\\anaconda3\\lib\\site-packages (from convertdate>=2.1.2->fbprophet) (2021.1)\n",
      "Requirement already satisfied: pymeeus<=1,>=0.3.13 in c:\\users\\anoma\\anaconda3\\lib\\site-packages (from convertdate>=2.1.2->fbprophet) (0.5.11)\n",
      "Requirement already satisfied: hijri-converter in c:\\users\\anoma\\anaconda3\\lib\\site-packages (from holidays>=0.10.2->fbprophet) (2.2.2)\n",
      "Requirement already satisfied: korean-lunar-calendar in c:\\users\\anoma\\anaconda3\\lib\\site-packages (from holidays>=0.10.2->fbprophet) (0.2.1)\n",
      "Requirement already satisfied: ephem>=3.7.5.3 in c:\\users\\anoma\\anaconda3\\lib\\site-packages (from LunarCalendar>=0.0.9->fbprophet) (4.1.3)\n",
      "Requirement already satisfied: pillow>=6.2.0 in c:\\users\\anoma\\anaconda3\\lib\\site-packages (from matplotlib>=2.0.0->fbprophet) (8.2.0)\n",
      "Requirement already satisfied: kiwisolver>=1.0.1 in c:\\users\\anoma\\anaconda3\\lib\\site-packages (from matplotlib>=2.0.0->fbprophet) (1.3.1)\n",
      "Requirement already satisfied: pyparsing!=2.0.4,!=2.1.2,!=2.1.6,>=2.0.3 in c:\\users\\anoma\\anaconda3\\lib\\site-packages (from matplotlib>=2.0.0->fbprophet) (2.4.7)\n",
      "Requirement already satisfied: cycler>=0.10 in c:\\users\\anoma\\anaconda3\\lib\\site-packages (from matplotlib>=2.0.0->fbprophet) (0.10.0)\n",
      "Requirement already satisfied: six in c:\\users\\anoma\\anaconda3\\lib\\site-packages (from cycler>=0.10->matplotlib>=2.0.0->fbprophet) (1.15.0)\n"
     ]
    }
   ],
   "source": [
    " !pip install fbprophet"
   ]
  },
  {
   "cell_type": "code",
   "execution_count": 45,
   "metadata": {},
   "outputs": [
    {
     "name": "stdout",
     "output_type": "stream",
     "text": [
      "Collecting package metadata (current_repodata.json): ...working... done\n",
      "Note: you may need to restart the kernel to use updated packages.\n",
      "Solving environment: ...working... failed with initial frozen solve. Retrying with flexible solve.\n",
      "Solving environment: ...working... failed with repodata from current_repodata.json, will retry with next repodata source.\n",
      "Collecting package metadata (repodata.json): ...working... done\n",
      "Solving environment: ...working... done\n",
      "\n",
      "## Package Plan ##\n",
      "\n",
      "\n",
      "  environment location: C:\\Users\\anoma\\anaconda3\n",
      "\n",
      "  added / updated specs:\n",
      "    - fbprophet\n",
      "\n",
      "\n",
      "The following packages will be downloaded:\n",
      "\n",
      "    package                    |            build\n",
      "    ---------------------------|-----------------\n",
      "    conda-4.11.0               |   py38haa244fe_0        16.9 MB  conda-forge\n",
      "    convertdate-2.3.2          |     pyhd8ed1ab_0          37 KB  conda-forge\n",
      "    ephem-4.1.3                |   py38h294d835_0         1.4 MB  conda-forge\n",
      "    fbprophet-0.7.1            |   py38h7ae7562_0         572 KB  conda-forge\n",
      "    hijri-converter-2.2.2      |     pyhd8ed1ab_0          17 KB  conda-forge\n",
      "    holidays-0.11.3.1          |     pyhd8ed1ab_0          78 KB  conda-forge\n",
      "    korean_lunar_calendar-0.2.1|     pyh9f0ad1d_0          10 KB  conda-forge\n",
      "    libpython-2.1              |   py38haa244fe_1          51 KB  conda-forge\n"
     ]
    },
    {
     "name": "stderr",
     "output_type": "stream",
     "text": [
      "\n",
      "\n",
      "==> WARNING: A newer version of conda exists. <==\n",
      "  current version: 4.10.1\n",
      "  latest version: 4.11.0\n",
      "\n",
      "Please update conda by running\n",
      "\n",
      "    $ conda update -n base -c defaults conda\n",
      "\n",
      "\n"
     ]
    },
    {
     "name": "stdout",
     "output_type": "stream",
     "text": [
      "    lunarcalendar-0.0.9        |             py_0          20 KB  conda-forge\n",
      "    m2w64-binutils-2.25.1      |                5        44.3 MB  conda-forge\n",
      "    m2w64-bzip2-1.0.6          |                6         102 KB  conda-forge\n",
      "    m2w64-crt-git-5.0.0.4636.2595836|                2         3.4 MB  conda-forge\n",
      "    m2w64-gcc-5.3.0            |                6        40.8 MB  conda-forge\n",
      "    m2w64-gcc-ada-5.3.0        |                6        33.3 MB  conda-forge\n",
      "    m2w64-gcc-fortran-5.3.0    |                6        10.2 MB  conda-forge\n",
      "    m2w64-gcc-objc-5.3.0       |                6        15.2 MB  conda-forge\n",
      "    m2w64-headers-git-5.0.0.4636.c0ad18a|                2         5.6 MB  conda-forge\n",
      "    m2w64-isl-0.16.1           |                2         655 KB  conda-forge\n",
      "    m2w64-libiconv-1.14        |                6         1.5 MB  conda-forge\n",
      "    m2w64-libmangle-git-5.0.0.4509.2e5a9a2|                2          23 KB  conda-forge\n",
      "    m2w64-make-4.1.2351.a80a8b8|                2         117 KB  conda-forge\n",
      "    m2w64-mpc-1.0.3            |                3          71 KB  conda-forge\n",
      "    m2w64-mpfr-3.1.4           |                4         294 KB  conda-forge\n",
      "    m2w64-pkg-config-0.29.1    |                2         467 KB  conda-forge\n",
      "    m2w64-toolchain-5.3.0      |                7           3 KB  conda-forge\n",
      "    m2w64-tools-git-5.0.0.4592.90b8472|                2         320 KB  conda-forge\n",
      "    m2w64-windows-default-manifest-6.4|                3           5 KB  conda-forge\n",
      "    m2w64-winpthreads-git-5.0.0.4634.697f757|                2          47 KB  conda-forge\n",
      "    m2w64-zlib-1.2.8           |               10         199 KB  conda-forge\n",
      "    pymeeus-0.5.10             |     pyhd8ed1ab_0         534 KB  conda-forge\n",
      "    pystan-2.18.0.0            |   py38hcce6980_0        12.6 MB\n",
      "    python_abi-3.8             |           2_cp38           4 KB  conda-forge\n",
      "    ------------------------------------------------------------\n",
      "                                           Total:       188.5 MB\n",
      "\n",
      "The following NEW packages will be INSTALLED:\n",
      "\n",
      "  convertdate        conda-forge/noarch::convertdate-2.3.2-pyhd8ed1ab_0\n",
      "  ephem              conda-forge/win-64::ephem-4.1.3-py38h294d835_0\n",
      "  fbprophet          conda-forge/win-64::fbprophet-0.7.1-py38h7ae7562_0\n",
      "  hijri-converter    conda-forge/noarch::hijri-converter-2.2.2-pyhd8ed1ab_0\n",
      "  holidays           conda-forge/noarch::holidays-0.11.3.1-pyhd8ed1ab_0\n",
      "  korean_lunar_cale~ conda-forge/noarch::korean_lunar_calendar-0.2.1-pyh9f0ad1d_0\n",
      "  libpython          conda-forge/win-64::libpython-2.1-py38haa244fe_1\n",
      "  lunarcalendar      conda-forge/noarch::lunarcalendar-0.0.9-py_0\n",
      "  m2w64-binutils     conda-forge/win-64::m2w64-binutils-2.25.1-5\n",
      "  m2w64-bzip2        conda-forge/win-64::m2w64-bzip2-1.0.6-6\n",
      "  m2w64-crt-git      conda-forge/win-64::m2w64-crt-git-5.0.0.4636.2595836-2\n",
      "  m2w64-gcc          conda-forge/win-64::m2w64-gcc-5.3.0-6\n",
      "  m2w64-gcc-ada      conda-forge/win-64::m2w64-gcc-ada-5.3.0-6\n",
      "  m2w64-gcc-fortran  conda-forge/win-64::m2w64-gcc-fortran-5.3.0-6\n",
      "  m2w64-gcc-objc     conda-forge/win-64::m2w64-gcc-objc-5.3.0-6\n",
      "  m2w64-headers-git  conda-forge/win-64::m2w64-headers-git-5.0.0.4636.c0ad18a-2\n",
      "  m2w64-isl          conda-forge/win-64::m2w64-isl-0.16.1-2\n",
      "  m2w64-libiconv     conda-forge/win-64::m2w64-libiconv-1.14-6\n",
      "  m2w64-libmangle-g~ conda-forge/win-64::m2w64-libmangle-git-5.0.0.4509.2e5a9a2-2\n",
      "  m2w64-make         conda-forge/win-64::m2w64-make-4.1.2351.a80a8b8-2\n",
      "  m2w64-mpc          conda-forge/win-64::m2w64-mpc-1.0.3-3\n",
      "  m2w64-mpfr         conda-forge/win-64::m2w64-mpfr-3.1.4-4\n",
      "  m2w64-pkg-config   conda-forge/win-64::m2w64-pkg-config-0.29.1-2\n",
      "  m2w64-toolchain    conda-forge/win-64::m2w64-toolchain-5.3.0-7\n",
      "  m2w64-tools-git    conda-forge/win-64::m2w64-tools-git-5.0.0.4592.90b8472-2\n",
      "  m2w64-windows-def~ conda-forge/win-64::m2w64-windows-default-manifest-6.4-3\n",
      "  m2w64-winpthreads~ conda-forge/win-64::m2w64-winpthreads-git-5.0.0.4634.697f757-2\n",
      "  m2w64-zlib         conda-forge/win-64::m2w64-zlib-1.2.8-10\n",
      "  pymeeus            conda-forge/noarch::pymeeus-0.5.10-pyhd8ed1ab_0\n",
      "  pystan             pkgs/main/win-64::pystan-2.18.0.0-py38hcce6980_0\n",
      "  python_abi         conda-forge/win-64::python_abi-3.8-2_cp38\n",
      "\n",
      "The following packages will be UPDATED:\n",
      "\n",
      "  conda              pkgs/main::conda-4.10.1-py38haa95532_1 --> conda-forge::conda-4.11.0-py38haa244fe_0\n",
      "\n",
      "\n",
      "\n",
      "Downloading and Extracting Packages\n",
      "\n",
      "ephem-4.1.3          | 1.4 MB    |            |   0% \n",
      "ephem-4.1.3          | 1.4 MB    | 1          |   1% \n",
      "ephem-4.1.3          | 1.4 MB    | #          |  10% \n",
      "ephem-4.1.3          | 1.4 MB    | #1         |  11% \n",
      "ephem-4.1.3          | 1.4 MB    | #9         |  20% \n",
      "ephem-4.1.3          | 1.4 MB    | ##4        |  24% \n",
      "ephem-4.1.3          | 1.4 MB    | ##6        |  26% \n",
      "ephem-4.1.3          | 1.4 MB    | ##9        |  30% \n",
      "ephem-4.1.3          | 1.4 MB    | ###5       |  36% \n",
      "ephem-4.1.3          | 1.4 MB    | ####3      |  44% \n",
      "ephem-4.1.3          | 1.4 MB    | ####8      |  48% \n",
      "ephem-4.1.3          | 1.4 MB    | #####1     |  52% \n",
      "ephem-4.1.3          | 1.4 MB    | #####7     |  57% \n",
      "ephem-4.1.3          | 1.4 MB    | ######     |  61% \n",
      "ephem-4.1.3          | 1.4 MB    | ######4    |  64% \n",
      "ephem-4.1.3          | 1.4 MB    | ######7    |  68% \n",
      "ephem-4.1.3          | 1.4 MB    | #######1   |  71% \n",
      "ephem-4.1.3          | 1.4 MB    | #######3   |  74% \n",
      "ephem-4.1.3          | 1.4 MB    | #######5   |  76% \n",
      "ephem-4.1.3          | 1.4 MB    | ########3  |  84% \n",
      "ephem-4.1.3          | 1.4 MB    | ########7  |  87% \n",
      "ephem-4.1.3          | 1.4 MB    | #########  |  91% \n",
      "ephem-4.1.3          | 1.4 MB    | #########4 |  94% \n",
      "ephem-4.1.3          | 1.4 MB    | #########7 |  98% \n",
      "ephem-4.1.3          | 1.4 MB    | ########## | 100% \n",
      "\n",
      "m2w64-crt-git-5.0.0. | 3.4 MB    |            |   0% \n",
      "m2w64-crt-git-5.0.0. | 3.4 MB    |            |   0% \n",
      "m2w64-crt-git-5.0.0. | 3.4 MB    | 1          |   1% \n",
      "m2w64-crt-git-5.0.0. | 3.4 MB    | 3          |   3% \n",
      "m2w64-crt-git-5.0.0. | 3.4 MB    | 6          |   6% \n",
      "m2w64-crt-git-5.0.0. | 3.4 MB    | 7          |   8% \n",
      "m2w64-crt-git-5.0.0. | 3.4 MB    | 8          |   9% \n",
      "m2w64-crt-git-5.0.0. | 3.4 MB    | #1         |  11% \n",
      "m2w64-crt-git-5.0.0. | 3.4 MB    | #2         |  12% \n",
      "m2w64-crt-git-5.0.0. | 3.4 MB    | #4         |  14% \n",
      "m2w64-crt-git-5.0.0. | 3.4 MB    | #5         |  16% \n",
      "m2w64-crt-git-5.0.0. | 3.4 MB    | #7         |  18% \n",
      "m2w64-crt-git-5.0.0. | 3.4 MB    | #9         |  19% \n",
      "m2w64-crt-git-5.0.0. | 3.4 MB    | ##         |  21% \n",
      "m2w64-crt-git-5.0.0. | 3.4 MB    | ##1        |  22% \n",
      "m2w64-crt-git-5.0.0. | 3.4 MB    | ##3        |  24% \n",
      "m2w64-crt-git-5.0.0. | 3.4 MB    | ##5        |  25% \n",
      "m2w64-crt-git-5.0.0. | 3.4 MB    | ##7        |  27% \n",
      "m2w64-crt-git-5.0.0. | 3.4 MB    | ##8        |  29% \n",
      "m2w64-crt-git-5.0.0. | 3.4 MB    | ##9        |  30% \n",
      "m2w64-crt-git-5.0.0. | 3.4 MB    | ###1       |  31% \n",
      "m2w64-crt-git-5.0.0. | 3.4 MB    | ###3       |  34% \n",
      "m2w64-crt-git-5.0.0. | 3.4 MB    | ###5       |  36% \n",
      "m2w64-crt-git-5.0.0. | 3.4 MB    | ###6       |  37% \n",
      "m2w64-crt-git-5.0.0. | 3.4 MB    | ####1      |  41% \n",
      "m2w64-crt-git-5.0.0. | 3.4 MB    | ####2      |  43% \n",
      "m2w64-crt-git-5.0.0. | 3.4 MB    | ####4      |  45% \n",
      "m2w64-crt-git-5.0.0. | 3.4 MB    | ####6      |  46% \n",
      "m2w64-crt-git-5.0.0. | 3.4 MB    | ####7      |  47% \n",
      "m2w64-crt-git-5.0.0. | 3.4 MB    | ####9      |  49% \n",
      "m2w64-crt-git-5.0.0. | 3.4 MB    | #####      |  51% \n",
      "m2w64-crt-git-5.0.0. | 3.4 MB    | #####3     |  54% \n",
      "m2w64-crt-git-5.0.0. | 3.4 MB    | #####5     |  55% \n",
      "m2w64-crt-git-5.0.0. | 3.4 MB    | #####6     |  57% \n",
      "m2w64-crt-git-5.0.0. | 3.4 MB    | #####8     |  58% \n",
      "m2w64-crt-git-5.0.0. | 3.4 MB    | #####9     |  59% \n",
      "m2w64-crt-git-5.0.0. | 3.4 MB    | ######     |  60% \n",
      "m2w64-crt-git-5.0.0. | 3.4 MB    | ######2    |  63% \n",
      "m2w64-crt-git-5.0.0. | 3.4 MB    | ######3    |  64% \n",
      "m2w64-crt-git-5.0.0. | 3.4 MB    | ######5    |  65% \n",
      "m2w64-crt-git-5.0.0. | 3.4 MB    | ######7    |  67% \n",
      "m2w64-crt-git-5.0.0. | 3.4 MB    | ######9    |  69% \n",
      "m2w64-crt-git-5.0.0. | 3.4 MB    | #######    |  71% \n",
      "m2w64-crt-git-5.0.0. | 3.4 MB    | #######2   |  72% \n",
      "m2w64-crt-git-5.0.0. | 3.4 MB    | #######3   |  74% \n",
      "m2w64-crt-git-5.0.0. | 3.4 MB    | #######5   |  76% \n",
      "m2w64-crt-git-5.0.0. | 3.4 MB    | #######7   |  77% \n",
      "m2w64-crt-git-5.0.0. | 3.4 MB    | #######8   |  79% \n",
      "m2w64-crt-git-5.0.0. | 3.4 MB    | #######9   |  80% \n",
      "m2w64-crt-git-5.0.0. | 3.4 MB    | ########3  |  83% \n",
      "m2w64-crt-git-5.0.0. | 3.4 MB    | ########4  |  85% \n",
      "m2w64-crt-git-5.0.0. | 3.4 MB    | ########6  |  86% \n",
      "m2w64-crt-git-5.0.0. | 3.4 MB    | ########7  |  88% \n",
      "m2w64-crt-git-5.0.0. | 3.4 MB    | ########8  |  89% \n",
      "m2w64-crt-git-5.0.0. | 3.4 MB    | #########  |  91% \n",
      "m2w64-crt-git-5.0.0. | 3.4 MB    | #########1 |  92% \n",
      "m2w64-crt-git-5.0.0. | 3.4 MB    | #########3 |  93% \n",
      "m2w64-crt-git-5.0.0. | 3.4 MB    | #########4 |  94% \n",
      "m2w64-crt-git-5.0.0. | 3.4 MB    | #########4 |  95% \n",
      "m2w64-crt-git-5.0.0. | 3.4 MB    | ########## | 100% \n",
      "m2w64-crt-git-5.0.0. | 3.4 MB    | ########## | 100% \n",
      "\n",
      "libpython-2.1        | 51 KB     |            |   0% \n",
      "libpython-2.1        | 51 KB     | ###1       |  31% \n",
      "libpython-2.1        | 51 KB     | ########## | 100% \n",
      "\n",
      "python_abi-3.8       | 4 KB      |            |   0% \n",
      "python_abi-3.8       | 4 KB      | ########## | 100% \n",
      "python_abi-3.8       | 4 KB      | ########## | 100% \n",
      "\n",
      "convertdate-2.3.2    | 37 KB     |            |   0% \n",
      "convertdate-2.3.2    | 37 KB     | ####3      |  43% \n",
      "convertdate-2.3.2    | 37 KB     | ########## | 100% \n",
      "\n",
      "m2w64-toolchain-5.3. | 3 KB      |            |   0% \n",
      "m2w64-toolchain-5.3. | 3 KB      | ########## | 100% \n",
      "m2w64-toolchain-5.3. | 3 KB      | ########## | 100% \n",
      "\n",
      "m2w64-isl-0.16.1     | 655 KB    |            |   0% \n",
      "m2w64-isl-0.16.1     | 655 KB    | 2          |   2% \n",
      "m2w64-isl-0.16.1     | 655 KB    | 9          |  10% \n",
      "m2w64-isl-0.16.1     | 655 KB    | #9         |  20% \n",
      "m2w64-isl-0.16.1     | 655 KB    | ##4        |  24% \n",
      "m2w64-isl-0.16.1     | 655 KB    | ###4       |  34% \n",
      "m2w64-isl-0.16.1     | 655 KB    | ####1      |  42% \n",
      "m2w64-isl-0.16.1     | 655 KB    | ####8      |  49% \n",
      "m2w64-isl-0.16.1     | 655 KB    | #####6     |  56% \n",
      "m2w64-isl-0.16.1     | 655 KB    | ######3    |  63% \n",
      "m2w64-isl-0.16.1     | 655 KB    | #######8   |  78% \n",
      "m2w64-isl-0.16.1     | 655 KB    | ########7  |  88% \n",
      "m2w64-isl-0.16.1     | 655 KB    | #########2 |  93% \n",
      "m2w64-isl-0.16.1     | 655 KB    | #########7 |  98% \n",
      "m2w64-isl-0.16.1     | 655 KB    | ########## | 100% \n",
      "\n",
      "m2w64-mpc-1.0.3      | 71 KB     |            |   0% \n",
      "m2w64-mpc-1.0.3      | 71 KB     | ##2        |  22% \n",
      "m2w64-mpc-1.0.3      | 71 KB     | ######7    |  67% \n",
      "m2w64-mpc-1.0.3      | 71 KB     | ########## | 100% \n",
      "\n",
      "m2w64-pkg-config-0.2 | 467 KB    |            |   0% \n",
      "m2w64-pkg-config-0.2 | 467 KB    | 3          |   3% \n",
      "m2w64-pkg-config-0.2 | 467 KB    | ##3        |  24% \n",
      "m2w64-pkg-config-0.2 | 467 KB    | ###        |  31% \n",
      "m2w64-pkg-config-0.2 | 467 KB    | ###7       |  38% \n",
      "m2w64-pkg-config-0.2 | 467 KB    | ####7      |  48% \n",
      "m2w64-pkg-config-0.2 | 467 KB    | #####4     |  55% \n",
      "m2w64-pkg-config-0.2 | 467 KB    | ######1    |  62% \n",
      "m2w64-pkg-config-0.2 | 467 KB    | ######8    |  69% \n",
      "m2w64-pkg-config-0.2 | 467 KB    | #######5   |  75% \n",
      "m2w64-pkg-config-0.2 | 467 KB    | ########2  |  82% \n",
      "m2w64-pkg-config-0.2 | 467 KB    | ########9  |  89% \n",
      "m2w64-pkg-config-0.2 | 467 KB    | #########5 |  96% \n",
      "m2w64-pkg-config-0.2 | 467 KB    | ########## | 100% \n",
      "\n",
      "m2w64-winpthreads-gi | 47 KB     |            |   0% \n",
      "m2w64-winpthreads-gi | 47 KB     | ###4       |  34% \n",
      "m2w64-winpthreads-gi | 47 KB     | ########## | 100% \n",
      "\n",
      "m2w64-libiconv-1.14  | 1.5 MB    |            |   0% \n",
      "m2w64-libiconv-1.14  | 1.5 MB    | 1          |   1% \n",
      "m2w64-libiconv-1.14  | 1.5 MB    | 2          |   2% \n",
      "m2w64-libiconv-1.14  | 1.5 MB    | 7          |   7% \n",
      "m2w64-libiconv-1.14  | 1.5 MB    | #2         |  13% \n",
      "m2w64-libiconv-1.14  | 1.5 MB    | #5         |  16% \n",
      "m2w64-libiconv-1.14  | 1.5 MB    | ##1        |  21% \n",
      "m2w64-libiconv-1.14  | 1.5 MB    | ##3        |  23% \n",
      "m2w64-libiconv-1.14  | 1.5 MB    | ##5        |  26% \n",
      "m2w64-libiconv-1.14  | 1.5 MB    | ##9        |  30% \n",
      "m2w64-libiconv-1.14  | 1.5 MB    | ###1       |  32% \n",
      "m2w64-libiconv-1.14  | 1.5 MB    | ###4       |  34% \n",
      "m2w64-libiconv-1.14  | 1.5 MB    | ###6       |  36% \n",
      "m2w64-libiconv-1.14  | 1.5 MB    | ###9       |  39% \n",
      "m2w64-libiconv-1.14  | 1.5 MB    | ####1      |  41% \n",
      "m2w64-libiconv-1.14  | 1.5 MB    | ####3      |  44% \n",
      "m2w64-libiconv-1.14  | 1.5 MB    | ####5      |  46% \n",
      "m2w64-libiconv-1.14  | 1.5 MB    | ####8      |  49% \n",
      "m2w64-libiconv-1.14  | 1.5 MB    | #####1     |  51% \n",
      "m2w64-libiconv-1.14  | 1.5 MB    | #####4     |  54% \n",
      "m2w64-libiconv-1.14  | 1.5 MB    | #####9     |  60% \n",
      "m2w64-libiconv-1.14  | 1.5 MB    | ######1    |  62% \n",
      "m2w64-libiconv-1.14  | 1.5 MB    | ######3    |  64% \n",
      "m2w64-libiconv-1.14  | 1.5 MB    | ######5    |  66% \n",
      "m2w64-libiconv-1.14  | 1.5 MB    | ######8    |  68% \n",
      "m2w64-libiconv-1.14  | 1.5 MB    | #######    |  70% \n",
      "m2w64-libiconv-1.14  | 1.5 MB    | #######2   |  72% \n",
      "m2w64-libiconv-1.14  | 1.5 MB    | #######4   |  74% \n",
      "m2w64-libiconv-1.14  | 1.5 MB    | #######6   |  77% \n",
      "m2w64-libiconv-1.14  | 1.5 MB    | #######8   |  79% \n",
      "m2w64-libiconv-1.14  | 1.5 MB    | ########1  |  82% \n",
      "m2w64-libiconv-1.14  | 1.5 MB    | ########5  |  85% \n",
      "m2w64-libiconv-1.14  | 1.5 MB    | ########7  |  87% \n",
      "m2w64-libiconv-1.14  | 1.5 MB    | ########9  |  89% \n",
      "m2w64-libiconv-1.14  | 1.5 MB    | #########1 |  91% \n",
      "m2w64-libiconv-1.14  | 1.5 MB    | #########3 |  94% \n",
      "m2w64-libiconv-1.14  | 1.5 MB    | #########6 |  97% \n",
      "m2w64-libiconv-1.14  | 1.5 MB    | #########9 | 100% \n",
      "m2w64-libiconv-1.14  | 1.5 MB    | ########## | 100% \n",
      "\n",
      "m2w64-make-4.1.2351. | 117 KB    |            |   0% \n",
      "m2w64-make-4.1.2351. | 117 KB    | #3         |  14% \n",
      "m2w64-make-4.1.2351. | 117 KB    | ####1      |  41% \n",
      "m2w64-make-4.1.2351. | 117 KB    | ########## | 100% \n",
      "\n",
      "m2w64-gcc-fortran-5. | 10.2 MB   |            |   0% \n",
      "m2w64-gcc-fortran-5. | 10.2 MB   |            |   0% \n",
      "m2w64-gcc-fortran-5. | 10.2 MB   |            |   0% \n",
      "m2w64-gcc-fortran-5. | 10.2 MB   | 1          |   1% \n",
      "m2w64-gcc-fortran-5. | 10.2 MB   | 1          |   2% \n",
      "m2w64-gcc-fortran-5. | 10.2 MB   | 2          |   2% \n",
      "m2w64-gcc-fortran-5. | 10.2 MB   | 2          |   2% \n",
      "m2w64-gcc-fortran-5. | 10.2 MB   | 2          |   3% \n",
      "m2w64-gcc-fortran-5. | 10.2 MB   | 3          |   3% \n",
      "m2w64-gcc-fortran-5. | 10.2 MB   | 3          |   4% \n",
      "m2w64-gcc-fortran-5. | 10.2 MB   | 3          |   4% \n",
      "m2w64-gcc-fortran-5. | 10.2 MB   | 4          |   4% \n",
      "m2w64-gcc-fortran-5. | 10.2 MB   | 4          |   5% \n",
      "m2w64-gcc-fortran-5. | 10.2 MB   | 4          |   5% \n",
      "m2w64-gcc-fortran-5. | 10.2 MB   | 5          |   5% \n",
      "m2w64-gcc-fortran-5. | 10.2 MB   | 5          |   6% \n",
      "m2w64-gcc-fortran-5. | 10.2 MB   | 5          |   6% \n",
      "m2w64-gcc-fortran-5. | 10.2 MB   | 6          |   6% \n",
      "m2w64-gcc-fortran-5. | 10.2 MB   | 6          |   6% \n",
      "m2w64-gcc-fortran-5. | 10.2 MB   | 6          |   7% \n",
      "m2w64-gcc-fortran-5. | 10.2 MB   | 6          |   7% \n",
      "m2w64-gcc-fortran-5. | 10.2 MB   | 7          |   7% \n",
      "m2w64-gcc-fortran-5. | 10.2 MB   | 7          |   7% \n",
      "m2w64-gcc-fortran-5. | 10.2 MB   | 7          |   7% \n",
      "m2w64-gcc-fortran-5. | 10.2 MB   | 8          |   8% \n",
      "m2w64-gcc-fortran-5. | 10.2 MB   | 8          |   8% \n",
      "m2w64-gcc-fortran-5. | 10.2 MB   | 8          |   8% \n",
      "m2w64-gcc-fortran-5. | 10.2 MB   | 8          |   8% \n",
      "m2w64-gcc-fortran-5. | 10.2 MB   | 8          |   9% \n",
      "m2w64-gcc-fortran-5. | 10.2 MB   | 9          |   9% \n",
      "m2w64-gcc-fortran-5. | 10.2 MB   | 9          |   9% \n",
      "m2w64-gcc-fortran-5. | 10.2 MB   | 9          |  10% \n",
      "m2w64-gcc-fortran-5. | 10.2 MB   | 9          |  10% \n",
      "m2w64-gcc-fortran-5. | 10.2 MB   | #          |  10% \n",
      "m2w64-gcc-fortran-5. | 10.2 MB   | #          |  10% \n",
      "m2w64-gcc-fortran-5. | 10.2 MB   | #          |  11% \n",
      "m2w64-gcc-fortran-5. | 10.2 MB   | #1         |  11% \n",
      "m2w64-gcc-fortran-5. | 10.2 MB   | #1         |  11% \n",
      "m2w64-gcc-fortran-5. | 10.2 MB   | #1         |  12% \n",
      "m2w64-gcc-fortran-5. | 10.2 MB   | #2         |  12% \n",
      "m2w64-gcc-fortran-5. | 10.2 MB   | #2         |  12% \n",
      "m2w64-gcc-fortran-5. | 10.2 MB   | #2         |  13% \n",
      "m2w64-gcc-fortran-5. | 10.2 MB   | #3         |  13% \n",
      "m2w64-gcc-fortran-5. | 10.2 MB   | #3         |  14% \n",
      "m2w64-gcc-fortran-5. | 10.2 MB   | #4         |  14% \n",
      "m2w64-gcc-fortran-5. | 10.2 MB   | #4         |  14% \n",
      "m2w64-gcc-fortran-5. | 10.2 MB   | #4         |  15% \n",
      "m2w64-gcc-fortran-5. | 10.2 MB   | #5         |  15% \n",
      "m2w64-gcc-fortran-5. | 10.2 MB   | #5         |  16% \n",
      "m2w64-gcc-fortran-5. | 10.2 MB   | #5         |  16% \n",
      "m2w64-gcc-fortran-5. | 10.2 MB   | #6         |  16% \n",
      "m2w64-gcc-fortran-5. | 10.2 MB   | #6         |  16% \n",
      "m2w64-gcc-fortran-5. | 10.2 MB   | #6         |  17% \n",
      "m2w64-gcc-fortran-5. | 10.2 MB   | #7         |  17% \n",
      "m2w64-gcc-fortran-5. | 10.2 MB   | #7         |  17% \n",
      "m2w64-gcc-fortran-5. | 10.2 MB   | #7         |  18% \n",
      "m2w64-gcc-fortran-5. | 10.2 MB   | #8         |  18% \n",
      "m2w64-gcc-fortran-5. | 10.2 MB   | #8         |  18% \n",
      "m2w64-gcc-fortran-5. | 10.2 MB   | #8         |  19% \n",
      "m2w64-gcc-fortran-5. | 10.2 MB   | #8         |  19% \n",
      "m2w64-gcc-fortran-5. | 10.2 MB   | #9         |  19% \n",
      "m2w64-gcc-fortran-5. | 10.2 MB   | #9         |  20% \n",
      "m2w64-gcc-fortran-5. | 10.2 MB   | ##         |  20% \n",
      "m2w64-gcc-fortran-5. | 10.2 MB   | ##         |  20% \n",
      "m2w64-gcc-fortran-5. | 10.2 MB   | ##         |  21% \n",
      "m2w64-gcc-fortran-5. | 10.2 MB   | ##         |  21% \n",
      "m2w64-gcc-fortran-5. | 10.2 MB   | ##1        |  21% \n",
      "m2w64-gcc-fortran-5. | 10.2 MB   | ##1        |  22% \n",
      "m2w64-gcc-fortran-5. | 10.2 MB   | ##2        |  22% \n",
      "m2w64-gcc-fortran-5. | 10.2 MB   | ##2        |  22% \n",
      "m2w64-gcc-fortran-5. | 10.2 MB   | ##2        |  23% \n",
      "m2w64-gcc-fortran-5. | 10.2 MB   | ##2        |  23% \n",
      "m2w64-gcc-fortran-5. | 10.2 MB   | ##3        |  23% \n",
      "m2w64-gcc-fortran-5. | 10.2 MB   | ##3        |  24% \n",
      "m2w64-gcc-fortran-5. | 10.2 MB   | ##3        |  24% \n",
      "m2w64-gcc-fortran-5. | 10.2 MB   | ##4        |  24% \n",
      "m2w64-gcc-fortran-5. | 10.2 MB   | ##4        |  24% \n",
      "m2w64-gcc-fortran-5. | 10.2 MB   | ##4        |  25% \n",
      "m2w64-gcc-fortran-5. | 10.2 MB   | ##5        |  25% \n",
      "m2w64-gcc-fortran-5. | 10.2 MB   | ##5        |  26% \n",
      "m2w64-gcc-fortran-5. | 10.2 MB   | ##5        |  26% \n",
      "m2w64-gcc-fortran-5. | 10.2 MB   | ##6        |  26% \n",
      "m2w64-gcc-fortran-5. | 10.2 MB   | ##6        |  27% \n",
      "m2w64-gcc-fortran-5. | 10.2 MB   | ##6        |  27% \n",
      "m2w64-gcc-fortran-5. | 10.2 MB   | ##7        |  27% \n",
      "m2w64-gcc-fortran-5. | 10.2 MB   | ##7        |  28% \n",
      "m2w64-gcc-fortran-5. | 10.2 MB   | ##8        |  28% \n",
      "m2w64-gcc-fortran-5. | 10.2 MB   | ##8        |  28% \n",
      "m2w64-gcc-fortran-5. | 10.2 MB   | ##8        |  29% \n",
      "m2w64-gcc-fortran-5. | 10.2 MB   | ##8        |  29% \n",
      "m2w64-gcc-fortran-5. | 10.2 MB   | ##9        |  29% \n",
      "m2w64-gcc-fortran-5. | 10.2 MB   | ##9        |  30% \n",
      "m2w64-gcc-fortran-5. | 10.2 MB   | ##9        |  30% \n",
      "m2w64-gcc-fortran-5. | 10.2 MB   | ###        |  30% \n",
      "m2w64-gcc-fortran-5. | 10.2 MB   | ###        |  30% \n",
      "m2w64-gcc-fortran-5. | 10.2 MB   | ###1       |  31% \n",
      "m2w64-gcc-fortran-5. | 10.2 MB   | ###1       |  32% \n",
      "m2w64-gcc-fortran-5. | 10.2 MB   | ###1       |  32% \n",
      "m2w64-gcc-fortran-5. | 10.2 MB   | ###2       |  32% \n",
      "m2w64-gcc-fortran-5. | 10.2 MB   | ###2       |  33% \n",
      "m2w64-gcc-fortran-5. | 10.2 MB   | ###2       |  33% \n",
      "m2w64-gcc-fortran-5. | 10.2 MB   | ###3       |  33% \n",
      "m2w64-gcc-fortran-5. | 10.2 MB   | ###3       |  34% \n",
      "m2w64-gcc-fortran-5. | 10.2 MB   | ###3       |  34% \n",
      "m2w64-gcc-fortran-5. | 10.2 MB   | ###4       |  34% \n",
      "m2w64-gcc-fortran-5. | 10.2 MB   | ###4       |  34% \n",
      "m2w64-gcc-fortran-5. | 10.2 MB   | ###4       |  34% \n",
      "m2w64-gcc-fortran-5. | 10.2 MB   | ###4       |  35% \n",
      "m2w64-gcc-fortran-5. | 10.2 MB   | ###5       |  35% \n",
      "m2w64-gcc-fortran-5. | 10.2 MB   | ###5       |  35% \n",
      "m2w64-gcc-fortran-5. | 10.2 MB   | ###5       |  36% \n",
      "m2w64-gcc-fortran-5. | 10.2 MB   | ###6       |  36% \n",
      "m2w64-gcc-fortran-5. | 10.2 MB   | ###6       |  36% \n",
      "m2w64-gcc-fortran-5. | 10.2 MB   | ###6       |  37% \n",
      "m2w64-gcc-fortran-5. | 10.2 MB   | ###6       |  37% \n",
      "m2w64-gcc-fortran-5. | 10.2 MB   | ###7       |  37% \n",
      "m2w64-gcc-fortran-5. | 10.2 MB   | ###7       |  38% \n",
      "m2w64-gcc-fortran-5. | 10.2 MB   | ###7       |  38% \n",
      "m2w64-gcc-fortran-5. | 10.2 MB   | ###8       |  38% \n",
      "m2w64-gcc-fortran-5. | 10.2 MB   | ###8       |  38% \n",
      "m2w64-gcc-fortran-5. | 10.2 MB   | ###8       |  39% \n",
      "m2w64-gcc-fortran-5. | 10.2 MB   | ###9       |  39% \n",
      "m2w64-gcc-fortran-5. | 10.2 MB   | ###9       |  39% \n",
      "m2w64-gcc-fortran-5. | 10.2 MB   | ###9       |  40% \n",
      "m2w64-gcc-fortran-5. | 10.2 MB   | ###9       |  40% \n",
      "m2w64-gcc-fortran-5. | 10.2 MB   | ####       |  40% \n",
      "m2w64-gcc-fortran-5. | 10.2 MB   | ####       |  41% \n",
      "m2w64-gcc-fortran-5. | 10.2 MB   | ####       |  41% \n",
      "m2w64-gcc-fortran-5. | 10.2 MB   | ####1      |  41% \n",
      "m2w64-gcc-fortran-5. | 10.2 MB   | ####1      |  42% \n",
      "m2w64-gcc-fortran-5. | 10.2 MB   | ####1      |  42% \n",
      "m2w64-gcc-fortran-5. | 10.2 MB   | ####2      |  42% \n",
      "m2w64-gcc-fortran-5. | 10.2 MB   | ####2      |  42% \n",
      "m2w64-gcc-fortran-5. | 10.2 MB   | ####2      |  43% \n",
      "m2w64-gcc-fortran-5. | 10.2 MB   | ####3      |  43% \n",
      "m2w64-gcc-fortran-5. | 10.2 MB   | ####3      |  43% \n",
      "m2w64-gcc-fortran-5. | 10.2 MB   | ####3      |  44% \n",
      "m2w64-gcc-fortran-5. | 10.2 MB   | ####3      |  44% \n",
      "m2w64-gcc-fortran-5. | 10.2 MB   | ####4      |  44% \n",
      "m2w64-gcc-fortran-5. | 10.2 MB   | ####4      |  44% \n",
      "m2w64-gcc-fortran-5. | 10.2 MB   | ####4      |  45% \n",
      "m2w64-gcc-fortran-5. | 10.2 MB   | ####4      |  45% \n",
      "m2w64-gcc-fortran-5. | 10.2 MB   | ####4      |  45% \n",
      "m2w64-gcc-fortran-5. | 10.2 MB   | ####5      |  45% \n",
      "m2w64-gcc-fortran-5. | 10.2 MB   | ####5      |  45% \n",
      "m2w64-gcc-fortran-5. | 10.2 MB   | ####5      |  46% \n",
      "m2w64-gcc-fortran-5. | 10.2 MB   | ####5      |  46% \n",
      "m2w64-gcc-fortran-5. | 10.2 MB   | ####6      |  46% \n",
      "m2w64-gcc-fortran-5. | 10.2 MB   | ####6      |  46% \n",
      "m2w64-gcc-fortran-5. | 10.2 MB   | ####6      |  46% \n",
      "m2w64-gcc-fortran-5. | 10.2 MB   | ####6      |  47% \n",
      "m2w64-gcc-fortran-5. | 10.2 MB   | ####6      |  47% \n",
      "m2w64-gcc-fortran-5. | 10.2 MB   | ####7      |  47% \n",
      "m2w64-gcc-fortran-5. | 10.2 MB   | ####7      |  48% \n",
      "m2w64-gcc-fortran-5. | 10.2 MB   | ####8      |  48% \n",
      "m2w64-gcc-fortran-5. | 10.2 MB   | ####8      |  48% \n",
      "m2w64-gcc-fortran-5. | 10.2 MB   | ####8      |  48% \n",
      "m2w64-gcc-fortran-5. | 10.2 MB   | ####8      |  49% \n",
      "m2w64-gcc-fortran-5. | 10.2 MB   | ####9      |  49% \n",
      "m2w64-gcc-fortran-5. | 10.2 MB   | ####9      |  49% \n",
      "m2w64-gcc-fortran-5. | 10.2 MB   | ####9      |  49% \n",
      "m2w64-gcc-fortran-5. | 10.2 MB   | ####9      |  50% \n",
      "m2w64-gcc-fortran-5. | 10.2 MB   | #####      |  50% \n",
      "m2w64-gcc-fortran-5. | 10.2 MB   | #####      |  50% \n",
      "m2w64-gcc-fortran-5. | 10.2 MB   | #####      |  50% \n",
      "m2w64-gcc-fortran-5. | 10.2 MB   | #####      |  51% \n",
      "m2w64-gcc-fortran-5. | 10.2 MB   | #####      |  51% \n",
      "m2w64-gcc-fortran-5. | 10.2 MB   | #####1     |  51% \n",
      "m2w64-gcc-fortran-5. | 10.2 MB   | #####1     |  51% \n",
      "m2w64-gcc-fortran-5. | 10.2 MB   | #####1     |  52% \n",
      "m2w64-gcc-fortran-5. | 10.2 MB   | #####2     |  52% \n",
      "m2w64-gcc-fortran-5. | 10.2 MB   | #####2     |  52% \n",
      "m2w64-gcc-fortran-5. | 10.2 MB   | #####2     |  52% \n",
      "m2w64-gcc-fortran-5. | 10.2 MB   | #####2     |  53% \n",
      "m2w64-gcc-fortran-5. | 10.2 MB   | #####3     |  53% "
     ]
    }
   ],
   "source": [
    "conda install -c conda-forge fbprophet"
   ]
  }
 ],
 "metadata": {
  "kernelspec": {
   "display_name": "Python 3",
   "language": "python",
   "name": "python3"
  },
  "language_info": {
   "codemirror_mode": {
    "name": "ipython",
    "version": 3
   },
   "file_extension": ".py",
   "mimetype": "text/x-python",
   "name": "python",
   "nbconvert_exporter": "python",
   "pygments_lexer": "ipython3",
   "version": "3.8.8"
  }
 },
 "nbformat": 4,
 "nbformat_minor": 2
}
