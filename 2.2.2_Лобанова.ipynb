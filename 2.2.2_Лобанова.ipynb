{
 "cells": [
  {
   "cell_type": "code",
   "execution_count": 3,
   "id": "c1e62ec6",
   "metadata": {},
   "outputs": [],
   "source": [
    "import numpy as np"
   ]
  },
  {
   "cell_type": "code",
   "execution_count": 4,
   "id": "1997b8a4",
   "metadata": {},
   "outputs": [],
   "source": [
    "url = 'https://archive.ics.uci.edu/ml/machine-learning-databases/iris/iris.data'\n",
    "iris = np.genfromtxt(url, delimiter =',', dtype='object')"
   ]
  },
  {
   "cell_type": "code",
   "execution_count": 5,
   "id": "10fa5083",
   "metadata": {},
   "outputs": [
    {
     "data": {
      "text/plain": [
       "array([[b'5.1', b'3.5', b'1.4', b'0.2', b'Iris-setosa'],\n",
       "       [b'4.9', b'3.0', b'1.4', b'0.2', b'Iris-setosa'],\n",
       "       [b'4.7', b'3.2', b'1.3', b'0.2', b'Iris-setosa'],\n",
       "       [b'4.6', b'3.1', b'1.5', b'0.2', b'Iris-setosa'],\n",
       "       [b'5.0', b'3.6', b'1.4', b'0.2', b'Iris-setosa'],\n",
       "       [b'5.4', b'3.9', b'1.7', b'0.4', b'Iris-setosa'],\n",
       "       [b'4.6', b'3.4', b'1.4', b'0.3', b'Iris-setosa'],\n",
       "       [b'5.0', b'3.4', b'1.5', b'0.2', b'Iris-setosa'],\n",
       "       [b'4.4', b'2.9', b'1.4', b'0.2', b'Iris-setosa'],\n",
       "       [b'4.9', b'3.1', b'1.5', b'0.1', b'Iris-setosa'],\n",
       "       [b'5.4', b'3.7', b'1.5', b'0.2', b'Iris-setosa'],\n",
       "       [b'4.8', b'3.4', b'1.6', b'0.2', b'Iris-setosa'],\n",
       "       [b'4.8', b'3.0', b'1.4', b'0.1', b'Iris-setosa'],\n",
       "       [b'4.3', b'3.0', b'1.1', b'0.1', b'Iris-setosa'],\n",
       "       [b'5.8', b'4.0', b'1.2', b'0.2', b'Iris-setosa'],\n",
       "       [b'5.7', b'4.4', b'1.5', b'0.4', b'Iris-setosa'],\n",
       "       [b'5.4', b'3.9', b'1.3', b'0.4', b'Iris-setosa'],\n",
       "       [b'5.1', b'3.5', b'1.4', b'0.3', b'Iris-setosa'],\n",
       "       [b'5.7', b'3.8', b'1.7', b'0.3', b'Iris-setosa'],\n",
       "       [b'5.1', b'3.8', b'1.5', b'0.3', b'Iris-setosa']], dtype=object)"
      ]
     },
     "execution_count": 5,
     "metadata": {},
     "output_type": "execute_result"
    }
   ],
   "source": [
    "iris [:20]"
   ]
  },
  {
   "cell_type": "code",
   "execution_count": 6,
   "id": "14d6f109",
   "metadata": {},
   "outputs": [],
   "source": [
    "number_atrs =[]\n",
    "for i in range(4):\n",
    "    number_atrs.append(np.genfromtxt(url, delimiter =',', dtype='float', usecols=[i]))"
   ]
  },
  {
   "cell_type": "code",
   "execution_count": 7,
   "id": "65ad0ec0",
   "metadata": {},
   "outputs": [
    {
     "data": {
      "text/plain": [
       "[array([5.1, 4.9, 4.7, 4.6, 5. , 5.4, 4.6, 5. , 4.4, 4.9, 5.4, 4.8, 4.8,\n",
       "        4.3, 5.8, 5.7, 5.4, 5.1, 5.7, 5.1, 5.4, 5.1, 4.6, 5.1, 4.8, 5. ,\n",
       "        5. , 5.2, 5.2, 4.7, 4.8, 5.4, 5.2, 5.5, 4.9, 5. , 5.5, 4.9, 4.4,\n",
       "        5.1, 5. , 4.5, 4.4, 5. , 5.1, 4.8, 5.1, 4.6, 5.3, 5. , 7. , 6.4,\n",
       "        6.9, 5.5, 6.5, 5.7, 6.3, 4.9, 6.6, 5.2, 5. , 5.9, 6. , 6.1, 5.6,\n",
       "        6.7, 5.6, 5.8, 6.2, 5.6, 5.9, 6.1, 6.3, 6.1, 6.4, 6.6, 6.8, 6.7,\n",
       "        6. , 5.7, 5.5, 5.5, 5.8, 6. , 5.4, 6. , 6.7, 6.3, 5.6, 5.5, 5.5,\n",
       "        6.1, 5.8, 5. , 5.6, 5.7, 5.7, 6.2, 5.1, 5.7, 6.3, 5.8, 7.1, 6.3,\n",
       "        6.5, 7.6, 4.9, 7.3, 6.7, 7.2, 6.5, 6.4, 6.8, 5.7, 5.8, 6.4, 6.5,\n",
       "        7.7, 7.7, 6. , 6.9, 5.6, 7.7, 6.3, 6.7, 7.2, 6.2, 6.1, 6.4, 7.2,\n",
       "        7.4, 7.9, 6.4, 6.3, 6.1, 7.7, 6.3, 6.4, 6. , 6.9, 6.7, 6.9, 5.8,\n",
       "        6.8, 6.7, 6.7, 6.3, 6.5, 6.2, 5.9]),\n",
       " array([3.5, 3. , 3.2, 3.1, 3.6, 3.9, 3.4, 3.4, 2.9, 3.1, 3.7, 3.4, 3. ,\n",
       "        3. , 4. , 4.4, 3.9, 3.5, 3.8, 3.8, 3.4, 3.7, 3.6, 3.3, 3.4, 3. ,\n",
       "        3.4, 3.5, 3.4, 3.2, 3.1, 3.4, 4.1, 4.2, 3.1, 3.2, 3.5, 3.1, 3. ,\n",
       "        3.4, 3.5, 2.3, 3.2, 3.5, 3.8, 3. , 3.8, 3.2, 3.7, 3.3, 3.2, 3.2,\n",
       "        3.1, 2.3, 2.8, 2.8, 3.3, 2.4, 2.9, 2.7, 2. , 3. , 2.2, 2.9, 2.9,\n",
       "        3.1, 3. , 2.7, 2.2, 2.5, 3.2, 2.8, 2.5, 2.8, 2.9, 3. , 2.8, 3. ,\n",
       "        2.9, 2.6, 2.4, 2.4, 2.7, 2.7, 3. , 3.4, 3.1, 2.3, 3. , 2.5, 2.6,\n",
       "        3. , 2.6, 2.3, 2.7, 3. , 2.9, 2.9, 2.5, 2.8, 3.3, 2.7, 3. , 2.9,\n",
       "        3. , 3. , 2.5, 2.9, 2.5, 3.6, 3.2, 2.7, 3. , 2.5, 2.8, 3.2, 3. ,\n",
       "        3.8, 2.6, 2.2, 3.2, 2.8, 2.8, 2.7, 3.3, 3.2, 2.8, 3. , 2.8, 3. ,\n",
       "        2.8, 3.8, 2.8, 2.8, 2.6, 3. , 3.4, 3.1, 3. , 3.1, 3.1, 3.1, 2.7,\n",
       "        3.2, 3.3, 3. , 2.5, 3. , 3.4, 3. ]),\n",
       " array([1.4, 1.4, 1.3, 1.5, 1.4, 1.7, 1.4, 1.5, 1.4, 1.5, 1.5, 1.6, 1.4,\n",
       "        1.1, 1.2, 1.5, 1.3, 1.4, 1.7, 1.5, 1.7, 1.5, 1. , 1.7, 1.9, 1.6,\n",
       "        1.6, 1.5, 1.4, 1.6, 1.6, 1.5, 1.5, 1.4, 1.5, 1.2, 1.3, 1.5, 1.3,\n",
       "        1.5, 1.3, 1.3, 1.3, 1.6, 1.9, 1.4, 1.6, 1.4, 1.5, 1.4, 4.7, 4.5,\n",
       "        4.9, 4. , 4.6, 4.5, 4.7, 3.3, 4.6, 3.9, 3.5, 4.2, 4. , 4.7, 3.6,\n",
       "        4.4, 4.5, 4.1, 4.5, 3.9, 4.8, 4. , 4.9, 4.7, 4.3, 4.4, 4.8, 5. ,\n",
       "        4.5, 3.5, 3.8, 3.7, 3.9, 5.1, 4.5, 4.5, 4.7, 4.4, 4.1, 4. , 4.4,\n",
       "        4.6, 4. , 3.3, 4.2, 4.2, 4.2, 4.3, 3. , 4.1, 6. , 5.1, 5.9, 5.6,\n",
       "        5.8, 6.6, 4.5, 6.3, 5.8, 6.1, 5.1, 5.3, 5.5, 5. , 5.1, 5.3, 5.5,\n",
       "        6.7, 6.9, 5. , 5.7, 4.9, 6.7, 4.9, 5.7, 6. , 4.8, 4.9, 5.6, 5.8,\n",
       "        6.1, 6.4, 5.6, 5.1, 5.6, 6.1, 5.6, 5.5, 4.8, 5.4, 5.6, 5.1, 5.1,\n",
       "        5.9, 5.7, 5.2, 5. , 5.2, 5.4, 5.1]),\n",
       " array([0.2, 0.2, 0.2, 0.2, 0.2, 0.4, 0.3, 0.2, 0.2, 0.1, 0.2, 0.2, 0.1,\n",
       "        0.1, 0.2, 0.4, 0.4, 0.3, 0.3, 0.3, 0.2, 0.4, 0.2, 0.5, 0.2, 0.2,\n",
       "        0.4, 0.2, 0.2, 0.2, 0.2, 0.4, 0.1, 0.2, 0.1, 0.2, 0.2, 0.1, 0.2,\n",
       "        0.2, 0.3, 0.3, 0.2, 0.6, 0.4, 0.3, 0.2, 0.2, 0.2, 0.2, 1.4, 1.5,\n",
       "        1.5, 1.3, 1.5, 1.3, 1.6, 1. , 1.3, 1.4, 1. , 1.5, 1. , 1.4, 1.3,\n",
       "        1.4, 1.5, 1. , 1.5, 1.1, 1.8, 1.3, 1.5, 1.2, 1.3, 1.4, 1.4, 1.7,\n",
       "        1.5, 1. , 1.1, 1. , 1.2, 1.6, 1.5, 1.6, 1.5, 1.3, 1.3, 1.3, 1.2,\n",
       "        1.4, 1.2, 1. , 1.3, 1.2, 1.3, 1.3, 1.1, 1.3, 2.5, 1.9, 2.1, 1.8,\n",
       "        2.2, 2.1, 1.7, 1.8, 1.8, 2.5, 2. , 1.9, 2.1, 2. , 2.4, 2.3, 1.8,\n",
       "        2.2, 2.3, 1.5, 2.3, 2. , 2. , 1.8, 2.1, 1.8, 1.8, 1.8, 2.1, 1.6,\n",
       "        1.9, 2. , 2.2, 1.5, 1.4, 2.3, 2.4, 1.8, 1.8, 2.1, 2.4, 2.3, 1.9,\n",
       "        2.3, 2.5, 2.3, 1.9, 2. , 2.3, 1.8])]"
      ]
     },
     "execution_count": 7,
     "metadata": {},
     "output_type": "execute_result"
    }
   ],
   "source": [
    "number_atrs"
   ]
  },
  {
   "cell_type": "code",
   "execution_count": 8,
   "id": "a1d0f043",
   "metadata": {},
   "outputs": [],
   "source": [
    "atr_1 = np.genfromtxt(url, delimiter =',', dtype='float', usecols=[0])"
   ]
  },
  {
   "cell_type": "code",
   "execution_count": 9,
   "id": "c4544e97",
   "metadata": {},
   "outputs": [
    {
     "name": "stdout",
     "output_type": "stream",
     "text": [
      "Минимум для atr_1 =  4.3\n",
      "Максимум для atr_1 =  7.9\n",
      "Медиана для atr_1 =  5.8\n",
      "Среднее для atr_1 =  5.843333333333334\n",
      "Персентиль 0.25 для atr_1 =  5.1\n",
      "Персентиль 0.75 для atr_1 =  6.4\n"
     ]
    }
   ],
   "source": [
    "print(\"Минимум для atr_1 = \", np.min(atr_1))\n",
    "print(\"Максимум для atr_1 = \", np.max(atr_1))\n",
    "print(\"Медиана для atr_1 = \", np.median(atr_1))\n",
    "print(\"Среднее для atr_1 = \", np.mean(atr_1))\n",
    "print(\"Персентиль 0.25 для atr_1 = \", np.percentile(atr_1, 25))\n",
    "print(\"Персентиль 0.75 для atr_1 = \", np.percentile(atr_1, 75))"
   ]
  },
  {
   "cell_type": "code",
   "execution_count": 10,
   "id": "e754ba12",
   "metadata": {},
   "outputs": [],
   "source": [
    "atr_2 = np.genfromtxt(url, delimiter =',', dtype='float', usecols=[1])"
   ]
  },
  {
   "cell_type": "code",
   "execution_count": 11,
   "id": "4033691a",
   "metadata": {},
   "outputs": [
    {
     "name": "stdout",
     "output_type": "stream",
     "text": [
      "Минимум для atr_2 =  2.0\n",
      "Максимум для atr_2 =  4.4\n",
      "Медиана для atr_2 =  3.0\n",
      "Среднее для atr_2 =  3.0540000000000003\n",
      "Персентиль 0.25 для atr_2 =  2.8\n",
      "Персентиль 0.75 для atr_2 =  3.3\n"
     ]
    }
   ],
   "source": [
    "print(\"Минимум для atr_2 = \", np.min(atr_2))\n",
    "print(\"Максимум для atr_2 = \", np.max(atr_2))\n",
    "print(\"Медиана для atr_2 = \", np.median(atr_2))\n",
    "print(\"Среднее для atr_2 = \", np.mean(atr_2))\n",
    "print(\"Персентиль 0.25 для atr_2 = \", np.percentile(atr_2, 25))\n",
    "print(\"Персентиль 0.75 для atr_2 = \", np.percentile(atr_2, 75))"
   ]
  },
  {
   "cell_type": "code",
   "execution_count": 12,
   "id": "2fe600e3",
   "metadata": {},
   "outputs": [],
   "source": [
    "atr_3 = np.genfromtxt(url, delimiter =',', dtype='float', usecols=[2])"
   ]
  },
  {
   "cell_type": "code",
   "execution_count": 13,
   "id": "9f69dc1e",
   "metadata": {},
   "outputs": [
    {
     "name": "stdout",
     "output_type": "stream",
     "text": [
      "Минимум для atr_3 =  1.0\n",
      "Максимум для atr_3 =  6.9\n",
      "Медиана для atr_3 =  4.35\n",
      "Среднее для atr_3 =  3.758666666666666\n",
      "Персентиль 0.25 для atr_3 =  1.6\n",
      "Персентиль 0.75 для atr_3 =  5.1\n"
     ]
    }
   ],
   "source": [
    "print(\"Минимум для atr_3 = \", np.min(atr_3))\n",
    "print(\"Максимум для atr_3 = \", np.max(atr_3))\n",
    "print(\"Медиана для atr_3 = \", np.median(atr_3))\n",
    "print(\"Среднее для atr_3 = \", np.mean(atr_3))\n",
    "print(\"Персентиль 0.25 для atr_3 = \", np.percentile(atr_3, 25))\n",
    "print(\"Персентиль 0.75 для atr_3 = \", np.percentile(atr_3, 75))"
   ]
  },
  {
   "cell_type": "code",
   "execution_count": 14,
   "id": "fb795b3b",
   "metadata": {},
   "outputs": [],
   "source": [
    "atr_4 = np.genfromtxt(url, delimiter =',', dtype='float', usecols=[3])"
   ]
  },
  {
   "cell_type": "code",
   "execution_count": 15,
   "id": "0867eb1d",
   "metadata": {},
   "outputs": [
    {
     "name": "stdout",
     "output_type": "stream",
     "text": [
      "Минимум для atr_4 =  0.1\n",
      "Максимум для atr_4 =  2.5\n",
      "Медиана для atr_4 =  1.3\n",
      "Среднее для atr_4 =  1.1986666666666668\n",
      "Персентиль 0.25 для atr_4 =  0.3\n",
      "Персентиль 0.75 для atr_4 =  1.8\n"
     ]
    }
   ],
   "source": [
    "print(\"Минимум для atr_4 = \", np.min(atr_4))\n",
    "print(\"Максимум для atr_4 = \", np.max(atr_4))\n",
    "print(\"Медиана для atr_4 = \", np.median(atr_4))\n",
    "print(\"Среднее для atr_4 = \", np.mean(atr_4))\n",
    "print(\"Персентиль 0.25 для atr_4 = \", np.percentile(atr_4, 25))\n",
    "print(\"Персентиль 0.75 для atr_4 = \", np.percentile(atr_4, 75))"
   ]
  },
  {
   "cell_type": "code",
   "execution_count": 16,
   "id": "dde2fe4d",
   "metadata": {},
   "outputs": [
    {
     "name": "stdout",
     "output_type": "stream",
     "text": [
      "\n",
      "Минимум для atr 0 =  4.3\n",
      "Максимум для atr 0 =  7.9\n",
      "Медиана для atr 0 =  5.8\n",
      "Среднее для atr 0 =  5.843333333333334\n",
      "Персентиль 0.25 для atr 0 =  5.1\n",
      "Персентиль 0.75 для atr 0 =  6.4\n",
      "\n",
      "\n",
      "\n",
      "Минимум для atr 1 =  2.0\n",
      "Максимум для atr 1 =  4.4\n",
      "Медиана для atr 1 =  3.0\n",
      "Среднее для atr 1 =  3.0540000000000003\n",
      "Персентиль 0.25 для atr 1 =  2.8\n",
      "Персентиль 0.75 для atr 1 =  3.3\n",
      "\n",
      "\n",
      "\n",
      "Минимум для atr 2 =  1.0\n",
      "Максимум для atr 2 =  6.9\n",
      "Медиана для atr 2 =  4.35\n",
      "Среднее для atr 2 =  3.758666666666666\n",
      "Персентиль 0.25 для atr 2 =  1.6\n",
      "Персентиль 0.75 для atr 2 =  5.1\n",
      "\n",
      "\n",
      "\n",
      "Минимум для atr 3 =  0.1\n",
      "Максимум для atr 3 =  2.5\n",
      "Медиана для atr 3 =  1.3\n",
      "Среднее для atr 3 =  1.1986666666666668\n",
      "Персентиль 0.25 для atr 3 =  0.3\n",
      "Персентиль 0.75 для atr 3 =  1.8\n",
      "\n",
      "\n"
     ]
    }
   ],
   "source": [
    "for i in range(len(number_atrs)):\n",
    "    print('')\n",
    "    print(f'Минимум для atr {i} = ', np.min(number_atrs[i]))\n",
    "    print(f'Максимум для atr {i} = ', np.max(number_atrs[i]))\n",
    "    print(f'Медиана для atr {i} = ', np.median(number_atrs[i]))\n",
    "    print(f'Среднее для atr {i} = ', np.mean(number_atrs[i]))\n",
    "    print(f'Персентиль 0.25 для atr {i} = ', np.percentile(number_atrs[i], 25))\n",
    "    print(f'Персентиль 0.75 для atr {i} = ', np.percentile(number_atrs[i], 75))\n",
    "    print('\\n')"
   ]
  },
  {
   "cell_type": "code",
   "execution_count": 17,
   "id": "ff069b5b",
   "metadata": {},
   "outputs": [],
   "source": [
    "import matplotlib.pyplot as plt"
   ]
  },
  {
   "cell_type": "code",
   "execution_count": 18,
   "id": "9706f73f",
   "metadata": {},
   "outputs": [
    {
     "data": {
      "image/png": "[encoded data removed]",
      "text/plain": [
       "<Figure size 432x288 with 1 Axes>"
      ]
     },
     "metadata": {
      "needs_background": "light"
     },
     "output_type": "display_data"
    },
    {
     "data": {
      "image/png": "[encoded data removed]",
      "text/plain": [
       "<Figure size 432x288 with 1 Axes>"
      ]
     },
     "metadata": {
      "needs_background": "light"
     },
     "output_type": "display_data"
    },
    {
     "data": {
      "image/png": "[encoded data removed]",
      "text/plain": [
       "<Figure size 432x288 with 1 Axes>"
      ]
     },
     "metadata": {
      "needs_background": "light"
     },
     "output_type": "display_data"
    },
    {
     "data": {
      "image/png": "[encoded data removed]",
      "text/plain": [
       "<Figure size 432x288 with 1 Axes>"
      ]
     },
     "metadata": {
      "needs_background": "light"
     },
     "output_type": "display_data"
    }
   ],
   "source": [
    "for i in range(len(number_atrs)):\n",
    "    plt.hist(number_atrs[i])\n",
    "    plt.title(f'Гистограмма для атрибута {i}')\n",
    "    plt.show()"
   ]
  },
  {
   "cell_type": "code",
   "execution_count": 19,
   "id": "abd9b6d7",
   "metadata": {},
   "outputs": [],
   "source": [
    "atr_5 = np.genfromtxt(url, delimiter =',', dtype='str', usecols=[4])"
   ]
  },
  {
   "cell_type": "code",
   "execution_count": 20,
   "id": "6758364e",
   "metadata": {},
   "outputs": [
    {
     "data": {
      "text/plain": [
       "array(['Iris-setosa', 'Iris-setosa', 'Iris-setosa', 'Iris-setosa',\n",
       "       'Iris-setosa', 'Iris-setosa', 'Iris-setosa', 'Iris-setosa',\n",
       "       'Iris-setosa', 'Iris-setosa', 'Iris-setosa', 'Iris-setosa',\n",
       "       'Iris-setosa', 'Iris-setosa', 'Iris-setosa', 'Iris-setosa',\n",
       "       'Iris-setosa', 'Iris-setosa', 'Iris-setosa', 'Iris-setosa',\n",
       "       'Iris-setosa', 'Iris-setosa', 'Iris-setosa', 'Iris-setosa',\n",
       "       'Iris-setosa', 'Iris-setosa', 'Iris-setosa', 'Iris-setosa',\n",
       "       'Iris-setosa', 'Iris-setosa', 'Iris-setosa', 'Iris-setosa',\n",
       "       'Iris-setosa', 'Iris-setosa', 'Iris-setosa', 'Iris-setosa',\n",
       "       'Iris-setosa', 'Iris-setosa', 'Iris-setosa', 'Iris-setosa',\n",
       "       'Iris-setosa', 'Iris-setosa', 'Iris-setosa', 'Iris-setosa',\n",
       "       'Iris-setosa', 'Iris-setosa', 'Iris-setosa', 'Iris-setosa',\n",
       "       'Iris-setosa', 'Iris-setosa', 'Iris-versicolor', 'Iris-versicolor',\n",
       "       'Iris-versicolor', 'Iris-versicolor', 'Iris-versicolor',\n",
       "       'Iris-versicolor', 'Iris-versicolor', 'Iris-versicolor',\n",
       "       'Iris-versicolor', 'Iris-versicolor', 'Iris-versicolor',\n",
       "       'Iris-versicolor', 'Iris-versicolor', 'Iris-versicolor',\n",
       "       'Iris-versicolor', 'Iris-versicolor', 'Iris-versicolor',\n",
       "       'Iris-versicolor', 'Iris-versicolor', 'Iris-versicolor',\n",
       "       'Iris-versicolor', 'Iris-versicolor', 'Iris-versicolor',\n",
       "       'Iris-versicolor', 'Iris-versicolor', 'Iris-versicolor',\n",
       "       'Iris-versicolor', 'Iris-versicolor', 'Iris-versicolor',\n",
       "       'Iris-versicolor', 'Iris-versicolor', 'Iris-versicolor',\n",
       "       'Iris-versicolor', 'Iris-versicolor', 'Iris-versicolor',\n",
       "       'Iris-versicolor', 'Iris-versicolor', 'Iris-versicolor',\n",
       "       'Iris-versicolor', 'Iris-versicolor', 'Iris-versicolor',\n",
       "       'Iris-versicolor', 'Iris-versicolor', 'Iris-versicolor',\n",
       "       'Iris-versicolor', 'Iris-versicolor', 'Iris-versicolor',\n",
       "       'Iris-versicolor', 'Iris-versicolor', 'Iris-versicolor',\n",
       "       'Iris-virginica', 'Iris-virginica', 'Iris-virginica',\n",
       "       'Iris-virginica', 'Iris-virginica', 'Iris-virginica',\n",
       "       'Iris-virginica', 'Iris-virginica', 'Iris-virginica',\n",
       "       'Iris-virginica', 'Iris-virginica', 'Iris-virginica',\n",
       "       'Iris-virginica', 'Iris-virginica', 'Iris-virginica',\n",
       "       'Iris-virginica', 'Iris-virginica', 'Iris-virginica',\n",
       "       'Iris-virginica', 'Iris-virginica', 'Iris-virginica',\n",
       "       'Iris-virginica', 'Iris-virginica', 'Iris-virginica',\n",
       "       'Iris-virginica', 'Iris-virginica', 'Iris-virginica',\n",
       "       'Iris-virginica', 'Iris-virginica', 'Iris-virginica',\n",
       "       'Iris-virginica', 'Iris-virginica', 'Iris-virginica',\n",
       "       'Iris-virginica', 'Iris-virginica', 'Iris-virginica',\n",
       "       'Iris-virginica', 'Iris-virginica', 'Iris-virginica',\n",
       "       'Iris-virginica', 'Iris-virginica', 'Iris-virginica',\n",
       "       'Iris-virginica', 'Iris-virginica', 'Iris-virginica',\n",
       "       'Iris-virginica', 'Iris-virginica', 'Iris-virginica',\n",
       "       'Iris-virginica', 'Iris-virginica'], dtype='<U15')"
      ]
     },
     "execution_count": 20,
     "metadata": {},
     "output_type": "execute_result"
    }
   ],
   "source": [
    "atr_5"
   ]
  },
  {
   "cell_type": "code",
   "execution_count": 25,
   "id": "dcf349bf",
   "metadata": {},
   "outputs": [
    {
     "data": {
      "text/plain": [
       "array(['Iris-setosa', 'Iris-versicolor', 'Iris-virginica'], dtype='<U15')"
      ]
     },
     "execution_count": 25,
     "metadata": {},
     "output_type": "execute_result"
    }
   ],
   "source": [
    "np.unique(atr_5)"
   ]
  },
  {
   "cell_type": "code",
   "execution_count": 28,
   "id": "a33d518c",
   "metadata": {},
   "outputs": [],
   "source": [
    "new_1 = []\n",
    "\n",
    "for group_val in np.unique(atr_5):\n",
    "   new_1.append(atr_1[atr_5==group_val].mean())"
   ]
  },
  {
   "cell_type": "code",
   "execution_count": 29,
   "id": "c6b61978",
   "metadata": {},
   "outputs": [
    {
     "data": {
      "text/plain": [
       "[5.006, 5.936, 6.587999999999998]"
      ]
     },
     "execution_count": 29,
     "metadata": {},
     "output_type": "execute_result"
    }
   ],
   "source": [
    "new_1"
   ]
  },
  {
   "cell_type": "code",
   "execution_count": 30,
   "id": "701547c2",
   "metadata": {},
   "outputs": [
    {
     "name": "stdout",
     "output_type": "stream",
     "text": [
      "Минимум для new_1  =  5.006\n",
      "Максимум для new_1 =  6.587999999999998\n",
      "Медиана для new_1 =  5.936\n",
      "Среднее для new_1 =  5.843333333333333\n",
      "Персентиль 0.25 для new_1 =  5.471\n",
      "Персентиль 0.75 для new_1 =  6.261999999999999\n"
     ]
    }
   ],
   "source": [
    "print(\"Минимум для new_1  = \", np.min(new_1))\n",
    "print(\"Максимум для new_1 = \", np.max(new_1))\n",
    "print(\"Медиана для new_1 = \", np.median(new_1))\n",
    "print(\"Среднее для new_1 = \", np.mean(new_1))\n",
    "print(\"Персентиль 0.25 для new_1 = \", np.percentile(new_1, 25))\n",
    "print(\"Персентиль 0.75 для new_1 = \", np.percentile(new_1, 75))"
   ]
  },
  {
   "cell_type": "code",
   "execution_count": 31,
   "id": "a0c6bed2",
   "metadata": {},
   "outputs": [
    {
     "data": {
      "image/png": "[encoded data removed]",
      "text/plain": [
       "<Figure size 432x288 with 1 Axes>"
      ]
     },
     "metadata": {
      "needs_background": "light"
     },
     "output_type": "display_data"
    }
   ],
   "source": [
    "plt.hist(new_1)\n",
    "plt.title(\"Гистограмма для new_1\")\n",
    "plt.show()"
   ]
  },
  {
   "cell_type": "code",
   "execution_count": 34,
   "id": "ac1cd048",
   "metadata": {},
   "outputs": [],
   "source": [
    "x_number_atrs =[]\n"
   ]
  },
  {
   "cell_type": "code",
   "execution_count": 36,
   "id": "35d9592e",
   "metadata": {},
   "outputs": [],
   "source": [
    "for i in range(len(number_atrs)):\n",
    "    for group_val in np.unique(atr_5):\n",
    "        x_number_atrs.append([i, group_val, number_atrs[i][atr_5==group_val]])\n",
    "    "
   ]
  },
  {
   "cell_type": "code",
   "execution_count": 37,
   "id": "85b4e93b",
   "metadata": {},
   "outputs": [
    {
     "data": {
      "text/plain": [
       "12"
      ]
     },
     "execution_count": 37,
     "metadata": {},
     "output_type": "execute_result"
    }
   ],
   "source": [
    "len(x_number_atrs)"
   ]
  },
  {
   "cell_type": "code",
   "execution_count": 38,
   "id": "3fe4b3ca",
   "metadata": {},
   "outputs": [
    {
     "data": {
      "text/plain": [
       "[[0,\n",
       "  'Iris-setosa',\n",
       "  array([5.1, 4.9, 4.7, 4.6, 5. , 5.4, 4.6, 5. , 4.4, 4.9, 5.4, 4.8, 4.8,\n",
       "         4.3, 5.8, 5.7, 5.4, 5.1, 5.7, 5.1, 5.4, 5.1, 4.6, 5.1, 4.8, 5. ,\n",
       "         5. , 5.2, 5.2, 4.7, 4.8, 5.4, 5.2, 5.5, 4.9, 5. , 5.5, 4.9, 4.4,\n",
       "         5.1, 5. , 4.5, 4.4, 5. , 5.1, 4.8, 5.1, 4.6, 5.3, 5. ])],\n",
       " [0,\n",
       "  'Iris-versicolor',\n",
       "  array([7. , 6.4, 6.9, 5.5, 6.5, 5.7, 6.3, 4.9, 6.6, 5.2, 5. , 5.9, 6. ,\n",
       "         6.1, 5.6, 6.7, 5.6, 5.8, 6.2, 5.6, 5.9, 6.1, 6.3, 6.1, 6.4, 6.6,\n",
       "         6.8, 6.7, 6. , 5.7, 5.5, 5.5, 5.8, 6. , 5.4, 6. , 6.7, 6.3, 5.6,\n",
       "         5.5, 5.5, 6.1, 5.8, 5. , 5.6, 5.7, 5.7, 6.2, 5.1, 5.7])],\n",
       " [0,\n",
       "  'Iris-virginica',\n",
       "  array([6.3, 5.8, 7.1, 6.3, 6.5, 7.6, 4.9, 7.3, 6.7, 7.2, 6.5, 6.4, 6.8,\n",
       "         5.7, 5.8, 6.4, 6.5, 7.7, 7.7, 6. , 6.9, 5.6, 7.7, 6.3, 6.7, 7.2,\n",
       "         6.2, 6.1, 6.4, 7.2, 7.4, 7.9, 6.4, 6.3, 6.1, 7.7, 6.3, 6.4, 6. ,\n",
       "         6.9, 6.7, 6.9, 5.8, 6.8, 6.7, 6.7, 6.3, 6.5, 6.2, 5.9])],\n",
       " [1,\n",
       "  'Iris-setosa',\n",
       "  array([3.5, 3. , 3.2, 3.1, 3.6, 3.9, 3.4, 3.4, 2.9, 3.1, 3.7, 3.4, 3. ,\n",
       "         3. , 4. , 4.4, 3.9, 3.5, 3.8, 3.8, 3.4, 3.7, 3.6, 3.3, 3.4, 3. ,\n",
       "         3.4, 3.5, 3.4, 3.2, 3.1, 3.4, 4.1, 4.2, 3.1, 3.2, 3.5, 3.1, 3. ,\n",
       "         3.4, 3.5, 2.3, 3.2, 3.5, 3.8, 3. , 3.8, 3.2, 3.7, 3.3])],\n",
       " [1,\n",
       "  'Iris-versicolor',\n",
       "  array([3.2, 3.2, 3.1, 2.3, 2.8, 2.8, 3.3, 2.4, 2.9, 2.7, 2. , 3. , 2.2,\n",
       "         2.9, 2.9, 3.1, 3. , 2.7, 2.2, 2.5, 3.2, 2.8, 2.5, 2.8, 2.9, 3. ,\n",
       "         2.8, 3. , 2.9, 2.6, 2.4, 2.4, 2.7, 2.7, 3. , 3.4, 3.1, 2.3, 3. ,\n",
       "         2.5, 2.6, 3. , 2.6, 2.3, 2.7, 3. , 2.9, 2.9, 2.5, 2.8])],\n",
       " [1,\n",
       "  'Iris-virginica',\n",
       "  array([3.3, 2.7, 3. , 2.9, 3. , 3. , 2.5, 2.9, 2.5, 3.6, 3.2, 2.7, 3. ,\n",
       "         2.5, 2.8, 3.2, 3. , 3.8, 2.6, 2.2, 3.2, 2.8, 2.8, 2.7, 3.3, 3.2,\n",
       "         2.8, 3. , 2.8, 3. , 2.8, 3.8, 2.8, 2.8, 2.6, 3. , 3.4, 3.1, 3. ,\n",
       "         3.1, 3.1, 3.1, 2.7, 3.2, 3.3, 3. , 2.5, 3. , 3.4, 3. ])],\n",
       " [2,\n",
       "  'Iris-setosa',\n",
       "  array([1.4, 1.4, 1.3, 1.5, 1.4, 1.7, 1.4, 1.5, 1.4, 1.5, 1.5, 1.6, 1.4,\n",
       "         1.1, 1.2, 1.5, 1.3, 1.4, 1.7, 1.5, 1.7, 1.5, 1. , 1.7, 1.9, 1.6,\n",
       "         1.6, 1.5, 1.4, 1.6, 1.6, 1.5, 1.5, 1.4, 1.5, 1.2, 1.3, 1.5, 1.3,\n",
       "         1.5, 1.3, 1.3, 1.3, 1.6, 1.9, 1.4, 1.6, 1.4, 1.5, 1.4])],\n",
       " [2,\n",
       "  'Iris-versicolor',\n",
       "  array([4.7, 4.5, 4.9, 4. , 4.6, 4.5, 4.7, 3.3, 4.6, 3.9, 3.5, 4.2, 4. ,\n",
       "         4.7, 3.6, 4.4, 4.5, 4.1, 4.5, 3.9, 4.8, 4. , 4.9, 4.7, 4.3, 4.4,\n",
       "         4.8, 5. , 4.5, 3.5, 3.8, 3.7, 3.9, 5.1, 4.5, 4.5, 4.7, 4.4, 4.1,\n",
       "         4. , 4.4, 4.6, 4. , 3.3, 4.2, 4.2, 4.2, 4.3, 3. , 4.1])],\n",
       " [2,\n",
       "  'Iris-virginica',\n",
       "  array([6. , 5.1, 5.9, 5.6, 5.8, 6.6, 4.5, 6.3, 5.8, 6.1, 5.1, 5.3, 5.5,\n",
       "         5. , 5.1, 5.3, 5.5, 6.7, 6.9, 5. , 5.7, 4.9, 6.7, 4.9, 5.7, 6. ,\n",
       "         4.8, 4.9, 5.6, 5.8, 6.1, 6.4, 5.6, 5.1, 5.6, 6.1, 5.6, 5.5, 4.8,\n",
       "         5.4, 5.6, 5.1, 5.1, 5.9, 5.7, 5.2, 5. , 5.2, 5.4, 5.1])],\n",
       " [3,\n",
       "  'Iris-setosa',\n",
       "  array([0.2, 0.2, 0.2, 0.2, 0.2, 0.4, 0.3, 0.2, 0.2, 0.1, 0.2, 0.2, 0.1,\n",
       "         0.1, 0.2, 0.4, 0.4, 0.3, 0.3, 0.3, 0.2, 0.4, 0.2, 0.5, 0.2, 0.2,\n",
       "         0.4, 0.2, 0.2, 0.2, 0.2, 0.4, 0.1, 0.2, 0.1, 0.2, 0.2, 0.1, 0.2,\n",
       "         0.2, 0.3, 0.3, 0.2, 0.6, 0.4, 0.3, 0.2, 0.2, 0.2, 0.2])],\n",
       " [3,\n",
       "  'Iris-versicolor',\n",
       "  array([1.4, 1.5, 1.5, 1.3, 1.5, 1.3, 1.6, 1. , 1.3, 1.4, 1. , 1.5, 1. ,\n",
       "         1.4, 1.3, 1.4, 1.5, 1. , 1.5, 1.1, 1.8, 1.3, 1.5, 1.2, 1.3, 1.4,\n",
       "         1.4, 1.7, 1.5, 1. , 1.1, 1. , 1.2, 1.6, 1.5, 1.6, 1.5, 1.3, 1.3,\n",
       "         1.3, 1.2, 1.4, 1.2, 1. , 1.3, 1.2, 1.3, 1.3, 1.1, 1.3])],\n",
       " [3,\n",
       "  'Iris-virginica',\n",
       "  array([2.5, 1.9, 2.1, 1.8, 2.2, 2.1, 1.7, 1.8, 1.8, 2.5, 2. , 1.9, 2.1,\n",
       "         2. , 2.4, 2.3, 1.8, 2.2, 2.3, 1.5, 2.3, 2. , 2. , 1.8, 2.1, 1.8,\n",
       "         1.8, 1.8, 2.1, 1.6, 1.9, 2. , 2.2, 1.5, 1.4, 2.3, 2.4, 1.8, 1.8,\n",
       "         2.1, 2.4, 2.3, 1.9, 2.3, 2.5, 2.3, 1.9, 2. , 2.3, 1.8])]]"
      ]
     },
     "execution_count": 38,
     "metadata": {},
     "output_type": "execute_result"
    }
   ],
   "source": [
    "x_number_atrs"
   ]
  },
  {
   "cell_type": "code",
   "execution_count": 42,
   "id": "8a5ac48a",
   "metadata": {},
   "outputs": [
    {
     "data": {
      "text/plain": [
       "[0,\n",
       " 'Iris-setosa',\n",
       " array([5.1, 4.9, 4.7, 4.6, 5. , 5.4, 4.6, 5. , 4.4, 4.9, 5.4, 4.8, 4.8,\n",
       "        4.3, 5.8, 5.7, 5.4, 5.1, 5.7, 5.1, 5.4, 5.1, 4.6, 5.1, 4.8, 5. ,\n",
       "        5. , 5.2, 5.2, 4.7, 4.8, 5.4, 5.2, 5.5, 4.9, 5. , 5.5, 4.9, 4.4,\n",
       "        5.1, 5. , 4.5, 4.4, 5. , 5.1, 4.8, 5.1, 4.6, 5.3, 5. ])]"
      ]
     },
     "execution_count": 42,
     "metadata": {},
     "output_type": "execute_result"
    }
   ],
   "source": [
    "x_number_atrs[0]"
   ]
  },
  {
   "cell_type": "code",
   "execution_count": 48,
   "id": "0906bb8a",
   "metadata": {},
   "outputs": [
    {
     "data": {
      "text/plain": [
       "array([5.1, 4.9, 4.7, 4.6, 5. , 5.4, 4.6, 5. , 4.4, 4.9, 5.4, 4.8, 4.8,\n",
       "       4.3, 5.8, 5.7, 5.4, 5.1, 5.7, 5.1, 5.4, 5.1, 4.6, 5.1, 4.8, 5. ,\n",
       "       5. , 5.2, 5.2, 4.7, 4.8, 5.4, 5.2, 5.5, 4.9, 5. , 5.5, 4.9, 4.4,\n",
       "       5.1, 5. , 4.5, 4.4, 5. , 5.1, 4.8, 5.1, 4.6, 5.3, 5. ])"
      ]
     },
     "execution_count": 48,
     "metadata": {},
     "output_type": "execute_result"
    }
   ],
   "source": [
    "x_number_atrs[0][2]"
   ]
  },
  {
   "cell_type": "code",
   "execution_count": 46,
   "id": "a9f2234d",
   "metadata": {},
   "outputs": [
    {
     "name": "stdout",
     "output_type": "stream",
     "text": [
      "Для числового атрибута 1  группы Iris-setosa\n",
      "\n",
      "\n",
      "Минимум для x_atr 0 =  4.3\n",
      "Максимум для x_atr 0 =  5.8\n",
      "Медиана для x_atr 0 =  5.0\n",
      "Среднее для x_atr 0 =  5.006\n",
      "Персентиль 0.25 для x_atr 0 =  4.8\n",
      "Персентиль 0.75 для x_atr 0 =  5.2\n",
      "\n",
      "\n",
      "Для числового атрибута 1  группы Iris-versicolor\n",
      "\n",
      "\n",
      "Минимум для x_atr 1 =  4.9\n",
      "Максимум для x_atr 1 =  7.0\n",
      "Медиана для x_atr 1 =  5.9\n",
      "Среднее для x_atr 1 =  5.936\n",
      "Персентиль 0.25 для x_atr 1 =  5.6\n",
      "Персентиль 0.75 для x_atr 1 =  6.3\n",
      "\n",
      "\n",
      "Для числового атрибута 1  группы Iris-virginica\n",
      "\n",
      "\n",
      "Минимум для x_atr 2 =  4.9\n",
      "Максимум для x_atr 2 =  7.9\n",
      "Медиана для x_atr 2 =  6.5\n",
      "Среднее для x_atr 2 =  6.587999999999998\n",
      "Персентиль 0.25 для x_atr 2 =  6.225\n",
      "Персентиль 0.75 для x_atr 2 =  6.9\n",
      "\n",
      "\n",
      "Для числового атрибута 2  группы Iris-setosa\n",
      "\n",
      "\n",
      "Минимум для x_atr 3 =  2.3\n",
      "Максимум для x_atr 3 =  4.4\n",
      "Медиана для x_atr 3 =  3.4\n",
      "Среднее для x_atr 3 =  3.418\n",
      "Персентиль 0.25 для x_atr 3 =  3.125\n",
      "Персентиль 0.75 для x_atr 3 =  3.6750000000000003\n",
      "\n",
      "\n",
      "Для числового атрибута 2  группы Iris-versicolor\n",
      "\n",
      "\n",
      "Минимум для x_atr 4 =  2.0\n",
      "Максимум для x_atr 4 =  3.4\n",
      "Медиана для x_atr 4 =  2.8\n",
      "Среднее для x_atr 4 =  2.7700000000000005\n",
      "Персентиль 0.25 для x_atr 4 =  2.525\n",
      "Персентиль 0.75 для x_atr 4 =  3.0\n",
      "\n",
      "\n",
      "Для числового атрибута 2  группы Iris-virginica\n",
      "\n",
      "\n",
      "Минимум для x_atr 5 =  2.2\n",
      "Максимум для x_atr 5 =  3.8\n",
      "Медиана для x_atr 5 =  3.0\n",
      "Среднее для x_atr 5 =  2.974\n",
      "Персентиль 0.25 для x_atr 5 =  2.8\n",
      "Персентиль 0.75 для x_atr 5 =  3.1750000000000003\n",
      "\n",
      "\n",
      "Для числового атрибута 3  группы Iris-setosa\n",
      "\n",
      "\n",
      "Минимум для x_atr 6 =  1.0\n",
      "Максимум для x_atr 6 =  1.9\n",
      "Медиана для x_atr 6 =  1.5\n",
      "Среднее для x_atr 6 =  1.464\n",
      "Персентиль 0.25 для x_atr 6 =  1.4\n",
      "Персентиль 0.75 для x_atr 6 =  1.5750000000000002\n",
      "\n",
      "\n",
      "Для числового атрибута 3  группы Iris-versicolor\n",
      "\n",
      "\n",
      "Минимум для x_atr 7 =  3.0\n",
      "Максимум для x_atr 7 =  5.1\n",
      "Медиана для x_atr 7 =  4.35\n",
      "Среднее для x_atr 7 =  4.26\n",
      "Персентиль 0.25 для x_atr 7 =  4.0\n",
      "Персентиль 0.75 для x_atr 7 =  4.6\n",
      "\n",
      "\n",
      "Для числового атрибута 3  группы Iris-virginica\n",
      "\n",
      "\n",
      "Минимум для x_atr 8 =  4.5\n",
      "Максимум для x_atr 8 =  6.9\n",
      "Медиана для x_atr 8 =  5.55\n",
      "Среднее для x_atr 8 =  5.5520000000000005\n",
      "Персентиль 0.25 для x_atr 8 =  5.1\n",
      "Персентиль 0.75 для x_atr 8 =  5.875\n",
      "\n",
      "\n",
      "Для числового атрибута 4  группы Iris-setosa\n",
      "\n",
      "\n",
      "Минимум для x_atr 9 =  0.1\n",
      "Максимум для x_atr 9 =  0.6\n",
      "Медиана для x_atr 9 =  0.2\n",
      "Среднее для x_atr 9 =  0.244\n",
      "Персентиль 0.25 для x_atr 9 =  0.2\n",
      "Персентиль 0.75 для x_atr 9 =  0.3\n",
      "\n",
      "\n",
      "Для числового атрибута 4  группы Iris-versicolor\n",
      "\n",
      "\n",
      "Минимум для x_atr 10 =  1.0\n",
      "Максимум для x_atr 10 =  1.8\n",
      "Медиана для x_atr 10 =  1.3\n",
      "Среднее для x_atr 10 =  1.3259999999999998\n",
      "Персентиль 0.25 для x_atr 10 =  1.2\n",
      "Персентиль 0.75 для x_atr 10 =  1.5\n",
      "\n",
      "\n",
      "Для числового атрибута 4  группы Iris-virginica\n",
      "\n",
      "\n",
      "Минимум для x_atr 11 =  1.4\n",
      "Максимум для x_atr 11 =  2.5\n",
      "Медиана для x_atr 11 =  2.0\n",
      "Среднее для x_atr 11 =  2.0260000000000002\n",
      "Персентиль 0.25 для x_atr 11 =  1.8\n",
      "Персентиль 0.75 для x_atr 11 =  2.3\n",
      "\n",
      "\n"
     ]
    }
   ],
   "source": [
    "for i in range(len(x_number_atrs)):\n",
    "    print(f'Для числового атрибута {x_number_atrs[i][0]+1}  группы {x_number_atrs[i][1]}')\n",
    "    print('\\n')\n",
    "    print(f'Минимум для x_atr {i} = ', np.min(x_number_atrs[i][2]))\n",
    "    print(f'Максимум для x_atr {i} = ', np.max(x_number_atrs[i][2]))\n",
    "    print(f'Медиана для x_atr {i} = ', np.median(x_number_atrs[i][2]))\n",
    "    print(f'Среднее для x_atr {i} = ', np.mean(x_number_atrs[i][2]))\n",
    "    print(f'Персентиль 0.25 для x_atr {i} = ', np.percentile(x_number_atrs[i][2], 25))\n",
    "    print(f'Персентиль 0.75 для x_atr {i} = ', np.percentile(x_number_atrs[i][2], 75))\n",
    "    print('\\n')"
   ]
  },
  {
   "cell_type": "code",
   "execution_count": 49,
   "id": "c0d27750",
   "metadata": {},
   "outputs": [
    {
     "data": {
      "image/png": "[encoded data removed]",
      "text/plain": [
       "<Figure size 432x288 with 1 Axes>"
      ]
     },
     "metadata": {
      "needs_background": "light"
     },
     "output_type": "display_data"
    },
    {
     "data": {
      "image/png": "[encoded data removed]",
      "text/plain": [
       "<Figure size 432x288 with 1 Axes>"
      ]
     },
     "metadata": {
      "needs_background": "light"
     },
     "output_type": "display_data"
    },
    {
     "data": {
      "image/png": "[encoded data removed]",
      "text/plain": [
       "<Figure size 432x288 with 1 Axes>"
      ]
     },
     "metadata": {
      "needs_background": "light"
     },
     "output_type": "display_data"
    },
    {
     "data": {
      "image/png": "[encoded data removed]",
      "text/plain": [
       "<Figure size 432x288 with 1 Axes>"
      ]
     },
     "metadata": {
      "needs_background": "light"
     },
     "output_type": "display_data"
    },
    {
     "data": {
      "image/png": "[encoded data removed]",
      "text/plain": [
       "<Figure size 432x288 with 1 Axes>"
      ]
     },
     "metadata": {
      "needs_background": "light"
     },
     "output_type": "display_data"
    },
    {
     "data": {
      "image/png": "[encoded data removed]",
      "text/plain": [
       "<Figure size 432x288 with 1 Axes>"
      ]
     },
     "metadata": {
      "needs_background": "light"
     },
     "output_type": "display_data"
    },
    {
     "data": {
      "image/png": "[encoded data removed]",
      "text/plain": [
       "<Figure size 432x288 with 1 Axes>"
      ]
     },
     "metadata": {
      "needs_background": "light"
     },
     "output_type": "display_data"
    },
    {
     "data": {
      "image/png": "[encoded data removed]",
      "text/plain": [
       "<Figure size 432x288 with 1 Axes>"
      ]
     },
     "metadata": {
      "needs_background": "light"
     },
     "output_type": "display_data"
    },
    {
     "data": {
      "image/png": "[encoded data removed]",
      "text/plain": [
       "<Figure size 432x288 with 1 Axes>"
      ]
     },
     "metadata": {
      "needs_background": "light"
     },
     "output_type": "display_data"
    },
    {
     "data": {
      "image/png": "[encoded data removed]",
      "text/plain": [
       "<Figure size 432x288 with 1 Axes>"
      ]
     },
     "metadata": {
      "needs_background": "light"
     },
     "output_type": "display_data"
    },
    {
     "data": {
      "image/png": "[encoded data removed]",
      "text/plain": [
       "<Figure size 432x288 with 1 Axes>"
      ]
     },
     "metadata": {
      "needs_background": "light"
     },
     "output_type": "display_data"
    },
    {
     "data": {
      "image/png": "[encoded data removed]",
      "text/plain": [
       "<Figure size 432x288 with 1 Axes>"
      ]
     },
     "metadata": {
      "needs_background": "light"
     },
     "output_type": "display_data"
    }
   ],
   "source": [
    "for i in range(len(x_number_atrs)):\n",
    "    plt.hist(x_number_atrs[i][2])\n",
    "    plt.title(f'Гистограмма для x_atr {i}')\n",
    "    plt.show()"
   ]
  },
  {
   "cell_type": "code",
   "execution_count": null,
   "id": "35f722bd",
   "metadata": {},
   "outputs": [],
   "source": []
  }
 ],
 "metadata": {
  "kernelspec": {
   "display_name": "Python 3",
   "language": "python",
   "name": "python3"
  },
  "language_info": {
   "codemirror_mode": {
    "name": "ipython",
    "version": 3
   },
   "file_extension": ".py",
   "mimetype": "text/x-python",
   "name": "python",
   "nbconvert_exporter": "python",
   "pygments_lexer": "ipython3",
   "version": "3.8.8"
  }
 },
 "nbformat": 4,
 "nbformat_minor": 5
}
