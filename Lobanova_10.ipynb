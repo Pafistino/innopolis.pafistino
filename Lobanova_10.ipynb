{
 "cells": [
  {
   "cell_type": "code",
   "execution_count": 1,
   "id": "02013fa4",
   "metadata": {},
   "outputs": [],
   "source": [
    "import numpy as np"
   ]
  },
  {
   "cell_type": "code",
   "execution_count": 2,
   "id": "a59d9ab5",
   "metadata": {},
   "outputs": [],
   "source": [
    "import pandas as pd"
   ]
  },
  {
   "cell_type": "code",
   "execution_count": 3,
   "id": "046624cd",
   "metadata": {},
   "outputs": [],
   "source": [
    "df = pd.read_csv('ad.csv')\n"
   ]
  },
  {
   "cell_type": "code",
   "execution_count": 7,
   "id": "8ae4f51c",
   "metadata": {},
   "outputs": [
    {
     "data": {
      "text/html": [
       "<div>\n",
       "<style scoped>\n",
       "    .dataframe tbody tr th:only-of-type {\n",
       "        vertical-align: middle;\n",
       "    }\n",
       "\n",
       "    .dataframe tbody tr th {\n",
       "        vertical-align: top;\n",
       "    }\n",
       "\n",
       "    .dataframe thead th {\n",
       "        text-align: right;\n",
       "    }\n",
       "</style>\n",
       "<table border=\"1\" class=\"dataframe\">\n",
       "  <thead>\n",
       "    <tr style=\"text-align: right;\">\n",
       "      <th></th>\n",
       "      <th>ad_id</th>\n",
       "      <th>action</th>\n",
       "    </tr>\n",
       "  </thead>\n",
       "  <tbody>\n",
       "    <tr>\n",
       "      <th>0</th>\n",
       "      <td>B</td>\n",
       "      <td>1</td>\n",
       "    </tr>\n",
       "    <tr>\n",
       "      <th>1</th>\n",
       "      <td>B</td>\n",
       "      <td>1</td>\n",
       "    </tr>\n",
       "    <tr>\n",
       "      <th>2</th>\n",
       "      <td>A</td>\n",
       "      <td>0</td>\n",
       "    </tr>\n",
       "    <tr>\n",
       "      <th>3</th>\n",
       "      <td>B</td>\n",
       "      <td>0</td>\n",
       "    </tr>\n",
       "    <tr>\n",
       "      <th>4</th>\n",
       "      <td>A</td>\n",
       "      <td>1</td>\n",
       "    </tr>\n",
       "    <tr>\n",
       "      <th>...</th>\n",
       "      <td>...</td>\n",
       "      <td>...</td>\n",
       "    </tr>\n",
       "    <tr>\n",
       "      <th>1995</th>\n",
       "      <td>A</td>\n",
       "      <td>0</td>\n",
       "    </tr>\n",
       "    <tr>\n",
       "      <th>1996</th>\n",
       "      <td>A</td>\n",
       "      <td>0</td>\n",
       "    </tr>\n",
       "    <tr>\n",
       "      <th>1997</th>\n",
       "      <td>A</td>\n",
       "      <td>0</td>\n",
       "    </tr>\n",
       "    <tr>\n",
       "      <th>1998</th>\n",
       "      <td>A</td>\n",
       "      <td>1</td>\n",
       "    </tr>\n",
       "    <tr>\n",
       "      <th>1999</th>\n",
       "      <td>A</td>\n",
       "      <td>0</td>\n",
       "    </tr>\n",
       "  </tbody>\n",
       "</table>\n",
       "<p>2000 rows × 2 columns</p>\n",
       "</div>"
      ],
      "text/plain": [
       "     ad_id  action\n",
       "0        B       1\n",
       "1        B       1\n",
       "2        A       0\n",
       "3        B       0\n",
       "4        A       1\n",
       "...    ...     ...\n",
       "1995     A       0\n",
       "1996     A       0\n",
       "1997     A       0\n",
       "1998     A       1\n",
       "1999     A       0\n",
       "\n",
       "[2000 rows x 2 columns]"
      ]
     },
     "execution_count": 7,
     "metadata": {},
     "output_type": "execute_result"
    }
   ],
   "source": [
    "df"
   ]
  },
  {
   "cell_type": "code",
   "execution_count": 8,
   "id": "0fa58a71",
   "metadata": {},
   "outputs": [
    {
     "data": {
      "text/html": [
       "<div>\n",
       "<style scoped>\n",
       "    .dataframe tbody tr th:only-of-type {\n",
       "        vertical-align: middle;\n",
       "    }\n",
       "\n",
       "    .dataframe tbody tr th {\n",
       "        vertical-align: top;\n",
       "    }\n",
       "\n",
       "    .dataframe thead th {\n",
       "        text-align: right;\n",
       "    }\n",
       "</style>\n",
       "<table border=\"1\" class=\"dataframe\">\n",
       "  <thead>\n",
       "    <tr style=\"text-align: right;\">\n",
       "      <th>action</th>\n",
       "      <th>0</th>\n",
       "      <th>1</th>\n",
       "    </tr>\n",
       "    <tr>\n",
       "      <th>ad_id</th>\n",
       "      <th></th>\n",
       "      <th></th>\n",
       "    </tr>\n",
       "  </thead>\n",
       "  <tbody>\n",
       "    <tr>\n",
       "      <th>A</th>\n",
       "      <td>696</td>\n",
       "      <td>304</td>\n",
       "    </tr>\n",
       "    <tr>\n",
       "      <th>B</th>\n",
       "      <td>628</td>\n",
       "      <td>372</td>\n",
       "    </tr>\n",
       "  </tbody>\n",
       "</table>\n",
       "</div>"
      ],
      "text/plain": [
       "action    0    1\n",
       "ad_id           \n",
       "A       696  304\n",
       "B       628  372"
      ]
     },
     "execution_count": 8,
     "metadata": {},
     "output_type": "execute_result"
    }
   ],
   "source": [
    "pd.crosstab(df['ad_id'], df['action'])"
   ]
  },
  {
   "cell_type": "code",
   "execution_count": 59,
   "id": "0f4a3dd0",
   "metadata": {},
   "outputs": [],
   "source": [
    "import seaborn as sns"
   ]
  },
  {
   "cell_type": "code",
   "execution_count": 60,
   "id": "32957c53",
   "metadata": {},
   "outputs": [
    {
     "data": {
      "text/plain": [
       "<AxesSubplot:xlabel='action', ylabel='Count'>"
      ]
     },
     "execution_count": 60,
     "metadata": {},
     "output_type": "execute_result"
    },
    {
     "data": {
      "image/png": "[encoded data removed]",
      "text/plain": [
       "<Figure size 432x288 with 1 Axes>"
      ]
     },
     "metadata": {
      "needs_background": "light"
     },
     "output_type": "display_data"
    }
   ],
   "source": [
    "sns.histplot(data=df, x=\"action\", hue=\"ad_id\", multiple=\"dodge\")"
   ]
  },
  {
   "cell_type": "code",
   "execution_count": 61,
   "id": "b92fab0e",
   "metadata": {},
   "outputs": [],
   "source": [
    "# Согласно полученным данным из датасета ad.csv \n",
    "# А - контрольная группа\n",
    "# В - тестовая группа\n",
    "# 0 - покупок не было\n",
    "# 1 - покупка была"
   ]
  },
  {
   "cell_type": "code",
   "execution_count": 82,
   "id": "cff82913",
   "metadata": {},
   "outputs": [],
   "source": [
    "# Гипотеза:\n",
    "# Отдел маркетинга изменил дизайн объявления на сайте\n",
    "# Hо: p1 = p2\n",
    "# H1: p1 ≠ p2\n",
    "# где p1 и p2 коэффициенты конверсии старого и нового дизайна. \n",
    "# Порог доверия α = 0,05\n",
    "\n"
   ]
  },
  {
   "cell_type": "code",
   "execution_count": 62,
   "id": "ebd2970d",
   "metadata": {},
   "outputs": [
    {
     "data": {
      "text/plain": [
       "68"
      ]
     },
     "execution_count": 62,
     "metadata": {},
     "output_type": "execute_result"
    }
   ],
   "source": [
    "372-304"
   ]
  },
  {
   "cell_type": "code",
   "execution_count": 63,
   "id": "2fe09401",
   "metadata": {},
   "outputs": [],
   "source": [
    "# По объявлению В было совершено больше покупок \n",
    "# согласно результату суммы кликов"
   ]
  },
  {
   "cell_type": "code",
   "execution_count": 64,
   "id": "bc650e82",
   "metadata": {},
   "outputs": [
    {
     "data": {
      "text/html": [
       "<div>\n",
       "<style scoped>\n",
       "    .dataframe tbody tr th:only-of-type {\n",
       "        vertical-align: middle;\n",
       "    }\n",
       "\n",
       "    .dataframe tbody tr th {\n",
       "        vertical-align: top;\n",
       "    }\n",
       "\n",
       "    .dataframe thead th {\n",
       "        text-align: right;\n",
       "    }\n",
       "</style>\n",
       "<table border=\"1\" class=\"dataframe\">\n",
       "  <thead>\n",
       "    <tr style=\"text-align: right;\">\n",
       "      <th>action</th>\n",
       "      <th>0</th>\n",
       "      <th>1</th>\n",
       "    </tr>\n",
       "    <tr>\n",
       "      <th>ad_id</th>\n",
       "      <th></th>\n",
       "      <th></th>\n",
       "    </tr>\n",
       "  </thead>\n",
       "  <tbody>\n",
       "    <tr>\n",
       "      <th>A</th>\n",
       "      <td>0.348</td>\n",
       "      <td>0.152</td>\n",
       "    </tr>\n",
       "    <tr>\n",
       "      <th>B</th>\n",
       "      <td>0.314</td>\n",
       "      <td>0.186</td>\n",
       "    </tr>\n",
       "  </tbody>\n",
       "</table>\n",
       "</div>"
      ],
      "text/plain": [
       "action      0      1\n",
       "ad_id               \n",
       "A       0.348  0.152\n",
       "B       0.314  0.186"
      ]
     },
     "execution_count": 64,
     "metadata": {},
     "output_type": "execute_result"
    }
   ],
   "source": [
    "pd.crosstab(df['ad_id'], df['action'], normalize=True)"
   ]
  },
  {
   "cell_type": "code",
   "execution_count": 65,
   "id": "20bc130b",
   "metadata": {},
   "outputs": [
    {
     "data": {
      "text/plain": [
       "0.034"
      ]
     },
     "execution_count": 65,
     "metadata": {},
     "output_type": "execute_result"
    }
   ],
   "source": [
    "0.186 - 0.152"
   ]
  },
  {
   "cell_type": "code",
   "execution_count": 66,
   "id": "6de9524c",
   "metadata": {},
   "outputs": [],
   "source": [
    "# По объявлению В было совершено больше покупок на 3%"
   ]
  },
  {
   "cell_type": "code",
   "execution_count": 67,
   "id": "7cdaec2f",
   "metadata": {},
   "outputs": [],
   "source": [
    "N1 = 1000\n",
    "N2 = 1000"
   ]
  },
  {
   "cell_type": "code",
   "execution_count": 68,
   "id": "f01ccd85",
   "metadata": {},
   "outputs": [],
   "source": [
    "p1 = 304 / N1\n",
    "p2 = 372 / N2"
   ]
  },
  {
   "cell_type": "code",
   "execution_count": 69,
   "id": "51fc5a12",
   "metadata": {},
   "outputs": [
    {
     "name": "stdout",
     "output_type": "stream",
     "text": [
      "0.304 0.372\n"
     ]
    }
   ],
   "source": [
    "print(p1, p2)"
   ]
  },
  {
   "cell_type": "code",
   "execution_count": 70,
   "id": "d1a801d3",
   "metadata": {},
   "outputs": [
    {
     "data": {
      "text/plain": [
       "0.068"
      ]
     },
     "execution_count": 70,
     "metadata": {},
     "output_type": "execute_result"
    }
   ],
   "source": [
    "p2 - p1"
   ]
  },
  {
   "cell_type": "code",
   "execution_count": 71,
   "id": "105827ce",
   "metadata": {},
   "outputs": [],
   "source": [
    "p_hat = (304+372) / (N1+N2)"
   ]
  },
  {
   "cell_type": "code",
   "execution_count": 72,
   "id": "e2522d05",
   "metadata": {},
   "outputs": [
    {
     "data": {
      "text/plain": [
       "0.338"
      ]
     },
     "execution_count": 72,
     "metadata": {},
     "output_type": "execute_result"
    }
   ],
   "source": [
    "p_hat"
   ]
  },
  {
   "cell_type": "code",
   "execution_count": 73,
   "id": "e263ba8d",
   "metadata": {},
   "outputs": [],
   "source": [
    "var = p_hat*(1-p_hat) * (1/N1 + 1/N2)"
   ]
  },
  {
   "cell_type": "code",
   "execution_count": 74,
   "id": "ab16c653",
   "metadata": {},
   "outputs": [],
   "source": [
    "se = np.sqrt(var)"
   ]
  },
  {
   "cell_type": "code",
   "execution_count": 75,
   "id": "a3daa5b3",
   "metadata": {},
   "outputs": [
    {
     "data": {
      "text/plain": [
       "0.02115447943108031"
      ]
     },
     "execution_count": 75,
     "metadata": {},
     "output_type": "execute_result"
    }
   ],
   "source": [
    "se"
   ]
  },
  {
   "cell_type": "code",
   "execution_count": null,
   "id": "5ca2e918",
   "metadata": {},
   "outputs": [],
   "source": [
    "# Стандартное отклонение показывает вероятность ошибки\n"
   ]
  },
  {
   "cell_type": "code",
   "execution_count": 79,
   "id": "ccd49822",
   "metadata": {},
   "outputs": [],
   "source": [
    "t_score = (p2-p1)/se"
   ]
  },
  {
   "cell_type": "code",
   "execution_count": 80,
   "id": "2ad391ea",
   "metadata": {},
   "outputs": [
    {
     "data": {
      "text/plain": [
       "3.2144492244084213"
      ]
     },
     "execution_count": 80,
     "metadata": {},
     "output_type": "execute_result"
    }
   ],
   "source": [
    "t_score"
   ]
  },
  {
   "cell_type": "code",
   "execution_count": null,
   "id": "9893bd08",
   "metadata": {},
   "outputs": [],
   "source": [
    "# T-распределение показывает  равенство \n",
    "# средних значений в 2-х выборках < 5"
   ]
  },
  {
   "cell_type": "code",
   "execution_count": 46,
   "id": "37f0a10a",
   "metadata": {},
   "outputs": [],
   "source": [
    "import scipy.stats as stats"
   ]
  },
  {
   "cell_type": "code",
   "execution_count": 47,
   "id": "31e02be3",
   "metadata": {},
   "outputs": [
    {
     "data": {
      "text/plain": [
       "0.022750131948179195"
      ]
     },
     "execution_count": 47,
     "metadata": {},
     "output_type": "execute_result"
    }
   ],
   "source": [
    "stats.norm.cdf(-2)"
   ]
  },
  {
   "cell_type": "code",
   "execution_count": 48,
   "id": "b6ee633f",
   "metadata": {},
   "outputs": [
    {
     "data": {
      "text/plain": [
       "0.9993465248633937"
      ]
     },
     "execution_count": 48,
     "metadata": {},
     "output_type": "execute_result"
    }
   ],
   "source": [
    "stats.norm.cdf(t_score)"
   ]
  },
  {
   "cell_type": "code",
   "execution_count": 49,
   "id": "0ac9bd63",
   "metadata": {},
   "outputs": [],
   "source": [
    "p_value = 1 - stats.t.cdf(t_score, df=N1+N2-2)"
   ]
  },
  {
   "cell_type": "code",
   "execution_count": 50,
   "id": "67ddd67b",
   "metadata": {},
   "outputs": [
    {
     "data": {
      "text/plain": [
       "0.000663897838044214"
      ]
     },
     "execution_count": 50,
     "metadata": {},
     "output_type": "execute_result"
    }
   ],
   "source": [
    "p_value"
   ]
  },
  {
   "cell_type": "code",
   "execution_count": 51,
   "id": "24d7322e",
   "metadata": {},
   "outputs": [
    {
     "data": {
      "text/plain": [
       "False"
      ]
     },
     "execution_count": 51,
     "metadata": {},
     "output_type": "execute_result"
    }
   ],
   "source": [
    "alpha = 0.05\n",
    "p_value > alpha"
   ]
  },
  {
   "cell_type": "code",
   "execution_count": 81,
   "id": "97ebcf07",
   "metadata": {},
   "outputs": [],
   "source": [
    "# Результат эксперимента можно считать статистически значимым и нет оснований для отклонения нулевой гипотезы"
   ]
  },
  {
   "cell_type": "code",
   "execution_count": null,
   "id": "032b3700",
   "metadata": {},
   "outputs": [],
   "source": [
    "# Вывод: новый дизайн рекламы работает лучше, чем старый"
   ]
  }
 ],
 "metadata": {
  "kernelspec": {
   "display_name": "Python 3",
   "language": "python",
   "name": "python3"
  },
  "language_info": {
   "codemirror_mode": {
    "name": "ipython",
    "version": 3
   },
   "file_extension": ".py",
   "mimetype": "text/x-python",
   "name": "python",
   "nbconvert_exporter": "python",
   "pygments_lexer": "ipython3",
   "version": "3.8.8"
  }
 },
 "nbformat": 4,
 "nbformat_minor": 5
}
